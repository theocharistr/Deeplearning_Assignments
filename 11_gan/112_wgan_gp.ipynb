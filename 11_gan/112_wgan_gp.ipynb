{
 "cells": [
  {
   "cell_type": "markdown",
   "metadata": {
    "deletable": false,
    "editable": false,
    "nbgrader": {
     "cell_type": "markdown",
     "checksum": "eba08e6b37e7c559afeccf4cb8b27635",
     "grade": false,
     "grade_id": "cell-9aa58d6cac14c783",
     "locked": true,
     "schema_version": 3,
     "solution": false,
     "task": false
    }
   },
   "source": [
    "<div class=\"alert alert-block alert-info\">\n",
    "<b>Number of points for this notebook:</b> 2\n",
    "<br>\n",
    "<b>Deadline:</b> May 23, 2020 (Saturday) 23:00\n",
    "</div>\n",
    "\n",
    "# Exercise 11.2. Generative adversarial networks (GANs). WGAN-GP: Wasserstein GAN with gradient penalty\n",
    "\n",
    "The goal of this exercise is to get familiar with WGAN-GP: one of the most popular versions of GANs, which is relatively easy to train.\n",
    "\n",
    "The algorithm was introduced in the paper [Improved Training of Wasserstein GANs](https://arxiv.org/pdf/1704.00028.pdf)."
   ]
  },
  {
   "cell_type": "code",
   "execution_count": null,
   "metadata": {},
   "outputs": [],
   "source": [
    "skip_training = False  # Set this flag to True before validation and submission"
   ]
  },
  {
   "cell_type": "code",
   "execution_count": null,
   "metadata": {
    "deletable": false,
    "editable": false,
    "nbgrader": {
     "cell_type": "code",
     "checksum": "67c33e7b0ef5b2539c31188a69d90430",
     "grade": true,
     "grade_id": "cell-170e509aea63f9e2",
     "locked": true,
     "points": 0,
     "schema_version": 3,
     "solution": false,
     "task": false
    }
   },
   "outputs": [],
   "source": [
    "# During evaluation, this cell sets skip_training to True\n",
    "# skip_training = True"
   ]
  },
  {
   "cell_type": "code",
   "execution_count": null,
   "metadata": {},
   "outputs": [],
   "source": [
    "import os\n",
    "import numpy as np\n",
    "import matplotlib.pyplot as plt\n",
    "from IPython import display\n",
    "\n",
    "import torch\n",
    "import torchvision\n",
    "import torch.nn as nn\n",
    "from torch.nn import functional as F\n",
    "import torchvision.transforms as transforms\n",
    "import torchvision.utils as utils\n",
    "\n",
    "import tools\n",
    "import tests"
   ]
  },
  {
   "cell_type": "code",
   "execution_count": null,
   "metadata": {},
   "outputs": [],
   "source": [
    "# When running on your own computer, you can specify the data directory by:\n",
    "# data_dir = tools.select_data_dir('/your/local/data/directory')\n",
    "data_dir = tools.select_data_dir()"
   ]
  },
  {
   "cell_type": "code",
   "execution_count": null,
   "metadata": {},
   "outputs": [],
   "source": [
    "#device = torch.device('cuda:0')\n",
    "device = torch.device('cpu')"
   ]
  },
  {
   "cell_type": "code",
   "execution_count": null,
   "metadata": {
    "deletable": false,
    "editable": false,
    "nbgrader": {
     "cell_type": "code",
     "checksum": "99f956742bb7af044124d3d3c39cf49f",
     "grade": false,
     "grade_id": "cell-4f6ca14d3a2fa27d",
     "locked": true,
     "schema_version": 3,
     "solution": false,
     "task": false
    }
   },
   "outputs": [],
   "source": [
    "if skip_training:\n",
    "    # The models are always evaluated on CPU\n",
    "    device = torch.device(\"cpu\")"
   ]
  },
  {
   "cell_type": "markdown",
   "metadata": {
    "deletable": false,
    "editable": false,
    "nbgrader": {
     "cell_type": "markdown",
     "checksum": "d82a10eb7b08df2b3fd0215c41bfd304",
     "grade": false,
     "grade_id": "cell-79a0ef10470c37ba",
     "locked": true,
     "schema_version": 3,
     "solution": false,
     "task": false
    }
   },
   "source": [
    "# Data\n",
    "\n",
    "We will use MNIST data in this exercise."
   ]
  },
  {
   "cell_type": "code",
   "execution_count": null,
   "metadata": {
    "deletable": false,
    "editable": false,
    "nbgrader": {
     "cell_type": "code",
     "checksum": "ed5842101c0f736236d9d667635f70ca",
     "grade": false,
     "grade_id": "cell-24de0b6a166fd150",
     "locked": true,
     "schema_version": 3,
     "solution": false,
     "task": false
    }
   },
   "outputs": [],
   "source": [
    "transform = transforms.Compose([\n",
    "    transforms.ToTensor(),\n",
    "    transforms.Normalize((0.5,), (0.5,))  # Min-max scaling to [-1, 1]\n",
    "])\n",
    "\n",
    "trainset = torchvision.datasets.MNIST(root=data_dir, train=True, download=True, transform=transform)\n",
    "trainloader = torch.utils.data.DataLoader(trainset, batch_size=32, shuffle=True)"
   ]
  },
  {
   "cell_type": "markdown",
   "metadata": {
    "deletable": false,
    "editable": false,
    "nbgrader": {
     "cell_type": "markdown",
     "checksum": "560bf169b73d97af141dc358979a36db",
     "grade": false,
     "grade_id": "cell-511beddf297bf38e",
     "locked": true,
     "schema_version": 3,
     "solution": false,
     "task": false
    }
   },
   "source": [
    "# Wasserstein GAN (WGAN)\n",
    "\n",
    "The WGAN value function is constructed as\n",
    "$$\n",
    "  \\min_G \\max_{D \\in \\mathcal{D}} E_{x∼P_r}[D(x)] − E_{\\tilde x∼P_g}[D(\\tilde x)]\n",
    "$$\n",
    "where\n",
    "* the dicriminator $D$ (called critic in WGAN) is constrained to be from the set $\\mathcal{D}$ of 1-Lipschitz functions\n",
    "* $P_r$ is the data distribution\n",
    "* $P_g$ is the model distribution. Samples from the model distribution are produced as follows:\n",
    "\\begin{align}\n",
    "z &\\sim N(0, I)\n",
    "\\\\\n",
    "\\tilde x &= G(z)\n",
    "\\end{align}\n",
    "\n",
    "## Generator\n",
    "\n",
    "Implement the generator in the cell below. We recommend you to use the same architecture of the generator as in Exercise 11.1."
   ]
  },
  {
   "cell_type": "code",
   "execution_count": null,
   "metadata": {
    "deletable": false,
    "nbgrader": {
     "cell_type": "code",
     "checksum": "33b7265b69d50a1847d4911bdf29ae69",
     "grade": false,
     "grade_id": "Generator",
     "locked": false,
     "schema_version": 3,
     "solution": true,
     "task": false
    }
   },
   "outputs": [],
   "source": [
    "class Generator(nn.Module):\n",
    "    def __init__(self, nz, ngf, nc):\n",
    "        \"\"\"WGAN generator.\n",
    "        \n",
    "        Args:\n",
    "          nz:  Number of elements in the latent code.\n",
    "          ngf: Base size (number of channels) of the generator layers.\n",
    "          nc:  Number of channels in the generated images.\n",
    "        \"\"\"\n",
    "        # YOUR CODE HERE\n",
    "        raise NotImplementedError()\n",
    "\n",
    "    def forward(self, z, verbose=False):\n",
    "        \"\"\"Generate images by transforming the given noise tensor.\n",
    "        \n",
    "        Args:\n",
    "          z of shape (batch_size, nz, 1, 1): Tensor of noise samples. We use the last two singleton dimensions\n",
    "              so that we can feed z to the generator without reshaping.\n",
    "          verbose (bool): Whether to print intermediate shapes (True) or not (False).\n",
    "        \n",
    "        Returns:\n",
    "          out of shape (batch_size, nc, 28, 28): Generated images.\n",
    "        \"\"\"\n",
    "        # YOUR CODE HERE\n",
    "        raise NotImplementedError()"
   ]
  },
  {
   "cell_type": "code",
   "execution_count": null,
   "metadata": {
    "deletable": false,
    "editable": false,
    "nbgrader": {
     "cell_type": "code",
     "checksum": "dbdd35dde6a4a659769e03d3ccc51ccd",
     "grade": false,
     "grade_id": "cell-53cda167f289ff2a",
     "locked": true,
     "schema_version": 3,
     "solution": false,
     "task": false
    }
   },
   "outputs": [],
   "source": [
    "def test_Generator_shapes():\n",
    "    batch_size = 32\n",
    "    nz = 10\n",
    "    netG = Generator(nz, ngf=64, nc=1)\n",
    "\n",
    "    noise = torch.randn(batch_size, nz, 1, 1)\n",
    "    out = netG(noise, verbose=True)\n",
    "\n",
    "    assert out.shape == torch.Size([batch_size, 1, 28, 28]), f\"Bad out.shape: {out.shape}\"\n",
    "    print('Success')\n",
    "\n",
    "test_Generator_shapes()"
   ]
  },
  {
   "cell_type": "markdown",
   "metadata": {
    "deletable": false,
    "editable": false,
    "nbgrader": {
     "cell_type": "markdown",
     "checksum": "f268c5cd68497f9cfaf76836b6fd1a96",
     "grade": false,
     "grade_id": "cell-f3d7ef6f1dbe76b5",
     "locked": true,
     "schema_version": 3,
     "solution": false,
     "task": false
    }
   },
   "source": [
    "### Loss for training the generator\n",
    "\n",
    "The generator is trained to minimize the relevant part of the value function using a fixed critic $D$:\n",
    "$$\n",
    "  \\min_G − E_{\\tilde{x} \\sim P_g}[D( \\tilde x)]\n",
    "$$"
   ]
  },
  {
   "cell_type": "code",
   "execution_count": null,
   "metadata": {
    "deletable": false,
    "nbgrader": {
     "cell_type": "code",
     "checksum": "eb4cd7c55fc8613b857529c86614a191",
     "grade": false,
     "grade_id": "generator_loss",
     "locked": false,
     "schema_version": 3,
     "solution": true,
     "task": false
    }
   },
   "outputs": [],
   "source": [
    "def generator_loss(D, fake_images):\n",
    "    \"\"\"Loss computed to train the WGAN generator.\n",
    "\n",
    "    Args:\n",
    "      D: The critic whose forward function takes inputs of shape (batch_size, nc, 28, 28)\n",
    "         and produces outputs of shape (batch_size, 1).\n",
    "      fake_images of shape (batch_size, nc, 28, 28): Fake images produces by the generator.\n",
    "\n",
    "    Returns:\n",
    "      loss: The relevant part of the WGAN value function.\n",
    "\n",
    "    Notes:\n",
    "    - Make sure that you process on the device given by `fake_images.device`.\n",
    "    - Use values of global variables `real_label`, `fake_label` to produce the right targets.\n",
    "    \"\"\"\n",
    "    # YOUR CODE HERE\n",
    "    raise NotImplementedError()"
   ]
  },
  {
   "cell_type": "code",
   "execution_count": null,
   "metadata": {
    "deletable": false,
    "editable": false,
    "nbgrader": {
     "cell_type": "code",
     "checksum": "555bc0b46f8dcaee9fcc9afd01335248",
     "grade": true,
     "grade_id": "cell-e9f124716144c47d",
     "locked": true,
     "points": 0,
     "schema_version": 3,
     "solution": false,
     "task": false
    }
   },
   "outputs": [],
   "source": [
    "# This cell tests generator_loss()"
   ]
  },
  {
   "cell_type": "markdown",
   "metadata": {
    "deletable": false,
    "editable": false,
    "nbgrader": {
     "cell_type": "markdown",
     "checksum": "2782b6f5ad7abd2e3bc3cb278d803521",
     "grade": false,
     "grade_id": "cell-34a836a2e901a078",
     "locked": true,
     "schema_version": 3,
     "solution": false,
     "task": false
    }
   },
   "source": [
    "## Critic\n",
    "\n",
    "In WGAN, the discriminator is called a critic because it is not trained to classify.\n",
    "\n",
    "Implement the WGAN critic in the cell below. You can use almost the same architecture as the architecture of the discriminator in Exercise 11.1. The difference is that there is no need to use `sigmoid` nonlinearity in the output layer because the output of the critic does not have to be between 0 and 1."
   ]
  },
  {
   "cell_type": "code",
   "execution_count": null,
   "metadata": {
    "deletable": false,
    "nbgrader": {
     "cell_type": "code",
     "checksum": "5ad009dd15fee71cd56b45245e91132f",
     "grade": false,
     "grade_id": "Critic",
     "locked": false,
     "schema_version": 3,
     "solution": true,
     "task": false
    }
   },
   "outputs": [],
   "source": [
    "class Critic(nn.Module):\n",
    "    def __init__(self, nc=1, ndf=64):\n",
    "        \"\"\"\n",
    "        Args:\n",
    "          nc:  Number of channels in the images.\n",
    "          ndf: Base size (number of channels) of the critic layers.\n",
    "        \"\"\"\n",
    "        # YOUR CODE HERE\n",
    "        raise NotImplementedError()\n",
    "\n",
    "    def forward(self, x, verbose=False):\n",
    "        \"\"\"\n",
    "        Args:\n",
    "          x of shape (batch_size, 1, 28, 28): Images to be evaluated.\n",
    "        \n",
    "        Returns:\n",
    "          out of shape (batch_size,): Critic outputs for images x.\n",
    "        \"\"\"\n",
    "        # YOUR CODE HERE\n",
    "        raise NotImplementedError()"
   ]
  },
  {
   "cell_type": "code",
   "execution_count": null,
   "metadata": {
    "deletable": false,
    "editable": false,
    "nbgrader": {
     "cell_type": "code",
     "checksum": "4df8bd7035d81c82f9729394d8af986b",
     "grade": false,
     "grade_id": "cell-44a2221bdef62f26",
     "locked": true,
     "schema_version": 3,
     "solution": false,
     "task": false
    }
   },
   "outputs": [],
   "source": [
    "def test_Critic_shapes():\n",
    "    nz = 10  # size of the latent z vector\n",
    "    netD = Critic(nc=1, ndf=64)\n",
    "\n",
    "    batch_size = 32\n",
    "    images = torch.ones(batch_size, 1, 28, 28)\n",
    "    out = netD(images, verbose=True)\n",
    "    assert out.shape == torch.Size([batch_size]), f\"Bad out.shape: {out.shape}\"\n",
    "    print('Success')\n",
    "\n",
    "test_Critic_shapes()"
   ]
  },
  {
   "cell_type": "markdown",
   "metadata": {
    "deletable": false,
    "editable": false,
    "nbgrader": {
     "cell_type": "markdown",
     "checksum": "eb329e50f304f424cc95471c499c1b8e",
     "grade": false,
     "grade_id": "cell-162b94410dda3c54",
     "locked": true,
     "schema_version": 3,
     "solution": false,
     "task": false
    }
   },
   "source": [
    "### Loss for training the WGAN critic\n",
    "\n",
    "Recall the value function of WGAN:\n",
    "$$\n",
    "  \\min_G \\max_{D \\in \\mathcal{D}} E_{x∼P_r}[D(x)] − E_{\\tilde x∼P_g}[D(\\tilde x)]\n",
    "$$\n",
    "To tune the critic, we need to minimize the following function:\n",
    "$$\n",
    "  \\min_{D \\in \\mathcal{D}} - E_{x∼P_r}[D(x)] + E_{\\tilde x∼P_g}[D(\\tilde x)]\n",
    "$$\n",
    "You need to implement this loss function *assuming no constraints on D* in the function below."
   ]
  },
  {
   "cell_type": "code",
   "execution_count": null,
   "metadata": {
    "deletable": false,
    "nbgrader": {
     "cell_type": "code",
     "checksum": "38efa96a17125ba78bfb3610d67cc315",
     "grade": false,
     "grade_id": "critic_loss",
     "locked": false,
     "schema_version": 3,
     "solution": true,
     "task": false
    }
   },
   "outputs": [],
   "source": [
    "def critic_loss(critic, real_images, fake_images):\n",
    "    \"\"\"\n",
    "    Args:\n",
    "      critic: The critic.\n",
    "      real_images of shape (batch_size, nc, 28, 28): Real images.\n",
    "      fake_images of shape (batch_size, nc, 28, 28): Fake images.\n",
    "\n",
    "    Returns:\n",
    "      loss (scalar tensor): Loss for training the WGAN critic.\n",
    "    \"\"\"\n",
    "    # YOUR CODE HERE\n",
    "    raise NotImplementedError()"
   ]
  },
  {
   "cell_type": "code",
   "execution_count": null,
   "metadata": {
    "deletable": false,
    "editable": false,
    "nbgrader": {
     "cell_type": "code",
     "checksum": "e1511fac4724c972e04be14c3b860079",
     "grade": true,
     "grade_id": "cell-b697bd01a31143d6",
     "locked": true,
     "points": 0,
     "schema_version": 3,
     "solution": false,
     "task": false
    }
   },
   "outputs": [],
   "source": [
    "# This cell tests critic_loss()"
   ]
  },
  {
   "cell_type": "markdown",
   "metadata": {
    "deletable": false,
    "editable": false,
    "nbgrader": {
     "cell_type": "markdown",
     "checksum": "79ce0f65e782bf812ff1742a8edd45d0",
     "grade": false,
     "grade_id": "cell-c6bf86344f718387",
     "locked": true,
     "schema_version": 3,
     "solution": false,
     "task": false
    }
   },
   "source": [
    "Without constraints on $D$, the WGAN value function can be made infinitely large. WGAN constrains the derivative of $D$ using a gradient penalty. The penalty is computed at random points between real images and generated ones using the following procedure:\n",
    "* Given a real image $x$ and a fake image $\\tilde x$, draw a random number $\\epsilon \\sim U[0,1]$\n",
    "* $\\hat{x} \\leftarrow \\epsilon x + (1−\\epsilon) \\tilde x$\n",
    "* Compute the gradient penalty $(‖\\nabla_{\\hat{x}} D(\\hat{x})‖_2−1)^2$\n",
    "where $\\nabla_{\\hat{x}} D(\\hat{x})$ is the gradient of $D$ computed at $\\hat{x}$.\n",
    "\n",
    "Your task is to implement the gradient penalty in the cell below. Note that we need to compute the gradient $\\nabla D$ so that we can differentiate through the gradient when computing the derivatives wrt the parameters of the critic. This can be achieved by using function [torch.autograd.grad](https://pytorch.org/docs/stable/autograd.html#torch.autograd.grad) which can create a computational graph with the gradient computations."
   ]
  },
  {
   "cell_type": "code",
   "execution_count": null,
   "metadata": {
    "deletable": false,
    "nbgrader": {
     "cell_type": "code",
     "checksum": "f4a7c864f7be3f026fe72d6d9d723726",
     "grade": false,
     "grade_id": "gradient_penalty",
     "locked": false,
     "schema_version": 3,
     "solution": true,
     "task": false
    }
   },
   "outputs": [],
   "source": [
    "def gradient_penalty(critic, real, fake_detached):\n",
    "    \"\"\"\n",
    "    Args:\n",
    "      critic: The critic.\n",
    "      real of shape (batch_size, nc, 28, 28): Real images.\n",
    "      fake_detached of shape (batch_size, nc, 28, 28): Fake images (detached from the computational graph).\n",
    "\n",
    "    Returns:\n",
    "      grad_penalty (scalar tensor): Gradient penalty.\n",
    "      x of shape (batch_size, nc, 28, 28): Points x-hat in which the gradient penalty is computed.\n",
    "    \"\"\"\n",
    "    # YOUR CODE HERE\n",
    "    raise NotImplementedError()"
   ]
  },
  {
   "cell_type": "code",
   "execution_count": null,
   "metadata": {
    "deletable": false,
    "editable": false,
    "nbgrader": {
     "cell_type": "code",
     "checksum": "d516ab4e1498c3eb557cacc6dfa81cb4",
     "grade": true,
     "grade_id": "test_gradient_penalty",
     "locked": true,
     "points": 1,
     "schema_version": 3,
     "solution": false,
     "task": false
    }
   },
   "outputs": [],
   "source": [
    "tests.test_gradient_penalty(gradient_penalty)"
   ]
  },
  {
   "cell_type": "markdown",
   "metadata": {
    "deletable": false,
    "editable": false,
    "nbgrader": {
     "cell_type": "markdown",
     "checksum": "65d2636986e5111dab323b6e18eb5193",
     "grade": false,
     "grade_id": "cell-beafcb4774140942",
     "locked": true,
     "schema_version": 3,
     "solution": false,
     "task": false
    }
   },
   "source": [
    "# Training WGAN-GP\n",
    "\n",
    "We will now train WGAN-GP. To assess the quality of the generated samples, we will use a simple scorer loaded in the cell below."
   ]
  },
  {
   "cell_type": "code",
   "execution_count": null,
   "metadata": {
    "deletable": false,
    "editable": false,
    "nbgrader": {
     "cell_type": "code",
     "checksum": "5a7b00448f010b80aa11083d90f6a498",
     "grade": false,
     "grade_id": "cell-3f26ac0c61b87f5d",
     "locked": true,
     "schema_version": 3,
     "solution": false,
     "task": false
    }
   },
   "outputs": [],
   "source": [
    "from scorer import Scorer\n",
    "scorer = Scorer()\n",
    "scorer.to(device)"
   ]
  },
  {
   "cell_type": "code",
   "execution_count": null,
   "metadata": {
    "deletable": false,
    "editable": false,
    "nbgrader": {
     "cell_type": "code",
     "checksum": "51ea5df8743c88c3519f8b0edd7e1a11",
     "grade": false,
     "grade_id": "cell-b815a01d40637212",
     "locked": true,
     "schema_version": 3,
     "solution": false,
     "task": false
    }
   },
   "outputs": [],
   "source": [
    "# Create the network\n",
    "nz = 10\n",
    "netG = Generator(nz=nz, ngf=128, nc=1).to(device)\n",
    "netD = Critic(nc=1, ndf=128).to(device)"
   ]
  },
  {
   "cell_type": "markdown",
   "metadata": {
    "deletable": false,
    "editable": false,
    "nbgrader": {
     "cell_type": "markdown",
     "checksum": "4b5611be7a320512a966550b548cdef7",
     "grade": false,
     "grade_id": "cell-c11270e33558df93",
     "locked": true,
     "schema_version": 3,
     "solution": false,
     "task": false
    }
   },
   "source": [
    "### Training loop\n",
    "\n",
    "Implement the training loop in the cell below. The recommended hyperparameters:\n",
    "* Optimizer of the critic:    Adam with learning rate 0.0001\n",
    "* Optimizer of the generator: Adam with learning rate 0.0001\n",
    "* Weight $\\lambda=10$ of the gradient penalty term in the discriminator loss:\n",
    "$$\n",
    "  \\min_{D} - E_{x∼P_r}[D(x)] + E_{\\tilde x∼P_g}[D(\\tilde x)]\n",
    "  + \\lambda (‖\\nabla_{\\hat{x}} D(\\hat{x})‖_2−1)^2\n",
    "$$\n",
    "\n",
    "Hints:\n",
    "- We will use the scorer defined above to assess the quality of the generated samples. The desired level of 0.66 should be reached within 15-20 epochs.\n",
    "- You can use the following code to track the training progress. The code plots some generated images and computes the score that we use to evaluate the trained model. Note that the images fed to the scorer need to be normalized to be in the range [0, 1].\n",
    "```\n",
    "with torch.no_grad():\n",
    "    # Plot generated images\n",
    "    z = torch.randn(144, nz, 1, 1, device=device)\n",
    "    samples = netG(z)\n",
    "    tools.plot_generated_samples(samples)\n",
    "    \n",
    "    # Compute score\n",
    "    z = torch.randn(1000, nz, 1, 1, device=device)\n",
    "    samples = netG(z)\n",
    "    samples = (samples + 1) / 2  # Re-normalize to [0, 1]\n",
    "    score = scorer(samples)\n",
    "```\n",
    "- The quality of the images is slightly worse than with the DCGAN."
   ]
  },
  {
   "cell_type": "code",
   "execution_count": null,
   "metadata": {
    "deletable": false,
    "nbgrader": {
     "cell_type": "code",
     "checksum": "ae914389933e3986497ab27451391731",
     "grade": false,
     "grade_id": "training_loop",
     "locked": false,
     "schema_version": 3,
     "solution": true,
     "task": false
    }
   },
   "outputs": [],
   "source": [
    "if not skip_training:\n",
    "    # YOUR CODE HERE\n",
    "    raise NotImplementedError()"
   ]
  },
  {
   "cell_type": "code",
   "execution_count": null,
   "metadata": {
    "deletable": false,
    "editable": false,
    "nbgrader": {
     "cell_type": "code",
     "checksum": "148185649c8e8ef649f6be22f2ada708",
     "grade": false,
     "grade_id": "cell-542f62dd494b82be",
     "locked": true,
     "schema_version": 3,
     "solution": false,
     "task": false
    }
   },
   "outputs": [],
   "source": [
    "# Save the model to disk (the pth-files will be submitted automatically together with your notebook)\n",
    "if not skip_training:\n",
    "    tools.save_model(netG, '11_wgan_g.pth')\n",
    "    tools.save_model(netD, '11_wgan_d.pth')\n",
    "else:\n",
    "    nz = 10\n",
    "    netG = Generator(nz=nz, ngf=128, nc=1)\n",
    "    netD = Critic(nc=1, ndf=128)\n",
    "    \n",
    "    tools.load_model(netG, '11_wgan_g.pth', device)\n",
    "    tools.load_model(netD, '11_wgan_d.pth', device)"
   ]
  },
  {
   "cell_type": "code",
   "execution_count": null,
   "metadata": {
    "deletable": false,
    "editable": false,
    "nbgrader": {
     "cell_type": "code",
     "checksum": "baf847b91d95961ec044180d0aa10574",
     "grade": true,
     "grade_id": "test_accuracy",
     "locked": true,
     "points": 1,
     "schema_version": 3,
     "solution": false,
     "task": false
    }
   },
   "outputs": [],
   "source": [
    "# Evaluate generated samples\n",
    "with torch.no_grad():\n",
    "    z = torch.randn(2000, nz, 1, 1, device=device)\n",
    "    samples = (netG(z) + 1) / 2\n",
    "    score = scorer(samples)\n",
    "\n",
    "print(f'The trained WGAN-GP achieves a score of {score:.5f}')\n",
    "assert score >= 0.66, \"Poor GAN score! Check your architecture and training.\"\n",
    "print('Success')"
   ]
  }
 ],
 "metadata": {
  "kernelspec": {
   "display_name": "Python 3",
   "language": "python",
   "name": "python3"
  },
  "language_info": {
   "codemirror_mode": {
    "name": "ipython",
    "version": 3
   },
   "file_extension": ".py",
   "mimetype": "text/x-python",
   "name": "python",
   "nbconvert_exporter": "python",
   "pygments_lexer": "ipython3",
   "version": "3.7.3"
  },
  "varInspector": {
   "cols": {
    "lenName": 16,
    "lenType": 16,
    "lenVar": 40
   },
   "kernels_config": {
    "python": {
     "delete_cmd_postfix": "",
     "delete_cmd_prefix": "del ",
     "library": "var_list.py",
     "varRefreshCmd": "print(var_dic_list())"
    },
    "r": {
     "delete_cmd_postfix": ") ",
     "delete_cmd_prefix": "rm(",
     "library": "var_list.r",
     "varRefreshCmd": "cat(var_dic_list()) "
    }
   },
   "types_to_exclude": [
    "module",
    "function",
    "builtin_function_or_method",
    "instance",
    "_Feature"
   ],
   "window_display": false
  }
 },
 "nbformat": 4,
 "nbformat_minor": 2
}
