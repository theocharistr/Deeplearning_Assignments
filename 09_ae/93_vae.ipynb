{
 "cells": [
  {
   "cell_type": "markdown",
   "metadata": {
    "deletable": false,
    "editable": false,
    "nbgrader": {
     "cell_type": "markdown",
     "checksum": "fef832b13430ea7fbc0aec6ebd922197",
     "grade": false,
     "grade_id": "cell-1991d883666dfe20",
     "locked": true,
     "schema_version": 3,
     "solution": false,
     "task": false
    }
   },
   "source": [
    "<div class=\"alert alert-block alert-info\">\n",
    "<b>Number of points for this notebook:</b> 2\n",
    "<br>\n",
    "<b>Deadline:</b> May 13, 2020 (Wednesday) 23:00\n",
    "</div>\n",
    "\n",
    "# Exercise 9.3. Variational autoencoders\n",
    "\n",
    "The goal of this exercise is to get familiar with *variational* autoencoders. The model was presented by [Kigma and Welling, 2013](https://arxiv.org/pdf/1312.6114.pdf)."
   ]
  },
  {
   "cell_type": "code",
   "execution_count": 1,
   "metadata": {},
   "outputs": [],
   "source": [
    "skip_training = True  # Set this flag to True before validation and submission"
   ]
  },
  {
   "cell_type": "code",
   "execution_count": 2,
   "metadata": {
    "deletable": false,
    "editable": false,
    "nbgrader": {
     "cell_type": "code",
     "checksum": "83bbf952bc63ef66213753c4d3df4ceb",
     "grade": true,
     "grade_id": "cell-4c5ad871b433468b",
     "locked": true,
     "points": 0,
     "schema_version": 3,
     "solution": false,
     "task": false
    }
   },
   "outputs": [],
   "source": [
    "# During evaluation, this cell sets skip_training to True\n",
    "# skip_training = True"
   ]
  },
  {
   "cell_type": "code",
   "execution_count": 3,
   "metadata": {},
   "outputs": [],
   "source": [
    "import os\n",
    "import numpy as np\n",
    "import matplotlib.pyplot as plt\n",
    "%matplotlib inline\n",
    "\n",
    "import torch\n",
    "import torchvision\n",
    "import torchvision.transforms as transforms\n",
    "import torch.nn as nn\n",
    "import torch.nn.functional as F\n",
    "import torch.optim as optim\n",
    "\n",
    "import tools\n",
    "import tests"
   ]
  },
  {
   "cell_type": "code",
   "execution_count": 4,
   "metadata": {},
   "outputs": [
    {
     "name": "stdout",
     "output_type": "stream",
     "text": [
      "The data directory is /coursedata\n"
     ]
    }
   ],
   "source": [
    "# When running on your own computer, you can specify the data directory by:\n",
    "# data_dir = tools.select_data_dir('/your/local/data/directory')\n",
    "data_dir = tools.select_data_dir()"
   ]
  },
  {
   "cell_type": "code",
   "execution_count": 5,
   "metadata": {},
   "outputs": [],
   "source": [
    "# Select the device for training (use GPU if you have one)\n",
    "#device = torch.device('cuda:0')\n",
    "device = torch.device('cpu')"
   ]
  },
  {
   "cell_type": "code",
   "execution_count": 6,
   "metadata": {
    "deletable": false,
    "editable": false,
    "nbgrader": {
     "cell_type": "code",
     "checksum": "d3f18d508eaf8a4db74a35943bce651d",
     "grade": false,
     "grade_id": "cell-0b293facc9f5809f",
     "locked": true,
     "schema_version": 3,
     "solution": false,
     "task": false
    }
   },
   "outputs": [],
   "source": [
    "# The models are always evaluated on CPU\n",
    "if skip_training:\n",
    "    device = torch.device(\"cpu\")"
   ]
  },
  {
   "cell_type": "markdown",
   "metadata": {
    "deletable": false,
    "editable": false,
    "nbgrader": {
     "cell_type": "markdown",
     "checksum": "65ab9b764d13f319415361311da996e5",
     "grade": false,
     "grade_id": "cell-f220938cfeb3ff3d",
     "locked": true,
     "schema_version": 3,
     "solution": false,
     "task": false
    }
   },
   "source": [
    "# Data\n",
    "\n",
    "In this exercise, we will use the same varianceMNIST dataset from Exercise 9.2."
   ]
  },
  {
   "cell_type": "code",
   "execution_count": 7,
   "metadata": {
    "deletable": false,
    "editable": false,
    "nbgrader": {
     "cell_type": "code",
     "checksum": "a4204377f6144b32470761fa0b03b9ec",
     "grade": false,
     "grade_id": "cell-e0f9dc3b448cdf86",
     "locked": true,
     "schema_version": 3,
     "solution": false,
     "task": false
    }
   },
   "outputs": [],
   "source": [
    "# We will use varianceMNIST data in this exercise\n",
    "transform = transforms.Compose([\n",
    "    transforms.ToTensor(),  # Transform to tensor\n",
    "    transforms.Lambda(lambda x: x * torch.randn_like(x))\n",
    "])\n",
    "\n",
    "trainset = torchvision.datasets.MNIST(root=data_dir, train=True, download=True, transform=transform)\n",
    "trainloader = torch.utils.data.DataLoader(trainset, batch_size=32, shuffle=True)"
   ]
  },
  {
   "cell_type": "markdown",
   "metadata": {
    "deletable": false,
    "editable": false,
    "nbgrader": {
     "cell_type": "markdown",
     "checksum": "043476d483ae788e347f6c5dfec88d7f",
     "grade": false,
     "grade_id": "cell-c3b9b6bf72ae75fa",
     "locked": true,
     "schema_version": 3,
     "solution": false,
     "task": false
    }
   },
   "source": [
    "We visualize some random training samples in the cell below. As you can see, we can quite easily recognize the digits."
   ]
  },
  {
   "cell_type": "code",
   "execution_count": 8,
   "metadata": {
    "deletable": false,
    "editable": false,
    "nbgrader": {
     "cell_type": "code",
     "checksum": "7c2523473cb0bd70e73f71f119a1fce8",
     "grade": false,
     "grade_id": "cell-29d84db735af3095",
     "locked": true,
     "schema_version": 3,
     "solution": false,
     "task": false
    }
   },
   "outputs": [
    {
     "data": {
      "image/png": "[encoded data removed]",
      "text/plain": [
       "<Figure size 576x576 with 1 Axes>"
      ]
     },
     "metadata": {},
     "output_type": "display_data"
    }
   ],
   "source": [
    "images, labels = iter(trainloader).next()\n",
    "tools.plot_images(images[:8], ncol=4, cmap=plt.cm.bwr, clim=[-3,3])"
   ]
  },
  {
   "cell_type": "markdown",
   "metadata": {
    "deletable": false,
    "editable": false,
    "nbgrader": {
     "cell_type": "markdown",
     "checksum": "0cc23aaa1a240aea105d3d172b490a0c",
     "grade": false,
     "grade_id": "cell-ff4e6ea5533a0eb8",
     "locked": true,
     "schema_version": 3,
     "solution": false,
     "task": false
    }
   },
   "source": [
    "## Variational autoencoder (VAE)\n",
    "\n",
    "In this exercise, we will assume the following generative model for the data:\n",
    "* the latent codes are normally distributed:\n",
    "$$\n",
    "  p(z) = \\mathcal{N}(z \\mid 0, I)\n",
    "$$\n",
    "where $I$ is the identity matrix.\n",
    "* the data are produced from the latent codes as follows:\n",
    "$$\n",
    "  p(x \\mid z) =\\mathcal{N}\\left(x \\mid \\mu_x(z), \\:\\text{diag}(\\sigma^2_x(z)) \\right)\n",
    "$$\n",
    "where $\\mu_x(z)$ and $\\sigma^2_x(z)$ are some deterministic functions that we need to learn."
   ]
  },
  {
   "cell_type": "markdown",
   "metadata": {
    "deletable": false,
    "editable": false,
    "nbgrader": {
     "cell_type": "markdown",
     "checksum": "8bc2c76f081978c46ac7af9a298d7b0f",
     "grade": false,
     "grade_id": "cell-e852904e4780e6c0",
     "locked": true,
     "schema_version": 3,
     "solution": false,
     "task": false
    }
   },
   "source": [
    "## Encoder\n",
    "\n",
    "In the cell below, your task is to implement the encoder of a VAE.\n",
    "The proposed architecture of the encoder is similar to the encoder from Exercise 9.2:\n",
    "* `Conv2d` layer with kernel size 5 with 6 output channels, followed by ReLU\n",
    "* `Conv2d` layer with kernel size 5 with 16 output channels, followed by ReLU\n",
    "* Fully-connected layer with 250 output features, followed by ReLU\n",
    "* Two heads: each is a fully-connected layer with `n_components` elements.\n",
    "\n",
    "The two heads are needed to produce two outputs of the encoder:\n",
    "* means $\\mu_z$ of the approximate distribution of the latent code $\\bar z$\n",
    "* log-variance $\\tilde z$ of the approximate distribution of the latent code $z$.\n",
    "To guarantee that the variance is positive, we parameterize it as $\\sigma_z^2 = \\exp(\\tilde z)$.\n",
    "\n",
    "Note: The exact architecture is not tested in this notebook."
   ]
  },
  {
   "cell_type": "code",
   "execution_count": 9,
   "metadata": {
    "deletable": false,
    "nbgrader": {
     "cell_type": "code",
     "checksum": "12c6507ec77bb8b3d9cd64f1c124886a",
     "grade": false,
     "grade_id": "Encoder",
     "locked": false,
     "schema_version": 3,
     "solution": true,
     "task": false
    }
   },
   "outputs": [],
   "source": [
    "class Encoder(nn.Module):\n",
    "    def __init__(self, n_components):\n",
    "        super(Encoder, self).__init__()\n",
    "        self.conv1 = nn.Conv2d(in_channels=1, out_channels=6, kernel_size=5)\n",
    "        self.conv2 = nn.Conv2d(in_channels=6, out_channels=16, kernel_size=5)\n",
    "        self.fc1 = nn.Linear(6400, 250)\n",
    "        self.lead1 = nn.Linear(250, n_components)\n",
    "        self.lead2 = nn.Linear(250, n_components)\n",
    "        \n",
    "    def forward(self, x):\n",
    "        enc = F.relu(self.conv2(F.relu(self.conv1(x))))\n",
    "        enc = enc.view(x.shape[0],-1)\n",
    "        enc = F.relu(self.fc1(enc)) \n",
    "        mean = self.lead1(enc)\n",
    "        var = self.lead2(enc)\n",
    "        return mean, var\n",
    "        \n",
    "    def sample(self, z_mean, z_logvar):\n",
    "        \"\"\"Draw one sample from the posterior of the latent codes described by given parameters.\n",
    "        This is needed for the re-parameterization trick.\n",
    "        \n",
    "        Args:\n",
    "          z_mean of shape (batch_size, n_components): Means of the approximate distributions of the codes.\n",
    "          z_logvar of shape (batch_size, n_components): Log-variance of the approximate distributions of the codes.\n",
    "        \n",
    "        Returns:\n",
    "          z of shape (batch_size, n_components): Drawn samples.\n",
    "        \"\"\"\n",
    "        std = torch.exp(0.5*z_logvar)\n",
    "        eps = torch.randn_like(std)\n",
    "        return z_mean + eps*std\n",
    "        "
   ]
  },
  {
   "cell_type": "code",
   "execution_count": 10,
   "metadata": {
    "deletable": false,
    "editable": false,
    "nbgrader": {
     "cell_type": "code",
     "checksum": "e6efe9577359a18b003ef06db148e9ea",
     "grade": false,
     "grade_id": "cell-67b29859e9438990",
     "locked": true,
     "schema_version": 3,
     "solution": false,
     "task": false
    }
   },
   "outputs": [
    {
     "name": "stdout",
     "output_type": "stream",
     "text": [
      "Success\n"
     ]
    }
   ],
   "source": [
    "def test_Encoder_shapes():\n",
    "    n_components = 10 # dimensional latent space\n",
    "    encoder = Encoder(n_components=n_components)\n",
    "\n",
    "    x = torch.randn(3, 1, 28, 28)\n",
    "    mu, logsigma = encoder(x)\n",
    "    assert mu.shape == torch.Size([3, n_components]), f\"Bad mu.shape: {mu.shape}\"\n",
    "    assert logsigma.shape == torch.Size([3, n_components]), f\"Bad logsigma.shape: {logsigma.shape}\"\n",
    "    print('Success')\n",
    "\n",
    "test_Encoder_shapes()"
   ]
  },
  {
   "cell_type": "code",
   "execution_count": 11,
   "metadata": {
    "deletable": false,
    "editable": false,
    "nbgrader": {
     "cell_type": "code",
     "checksum": "75418fdce78708b55754acd51b40dae5",
     "grade": false,
     "grade_id": "cell-e2ac1b8af3aa420b",
     "locked": true,
     "schema_version": 3,
     "solution": false,
     "task": false
    }
   },
   "outputs": [
    {
     "name": "stdout",
     "output_type": "stream",
     "text": [
      "Success\n"
     ]
    }
   ],
   "source": [
    "def test_Encoder_sample():\n",
    "    n_components = 10 # dimensional latent space\n",
    "    encoder = Encoder(n_components=n_components)\n",
    "\n",
    "    z_mean = torch.zeros(3, n_components)\n",
    "    z_logvar = torch.log(2*torch.ones(3, n_components))\n",
    "    z = encoder.sample(z_mean, z_logvar)\n",
    "    assert z.shape == z_mean.shape, f\"Bad z.shape: {z.shape}\"\n",
    "    print('Success')\n",
    "\n",
    "test_Encoder_sample()"
   ]
  },
  {
   "cell_type": "markdown",
   "metadata": {
    "deletable": false,
    "editable": false,
    "nbgrader": {
     "cell_type": "markdown",
     "checksum": "b1de49d31429ff9bec812cf1522207e3",
     "grade": false,
     "grade_id": "cell-fb71617d43a06e36",
     "locked": true,
     "schema_version": 3,
     "solution": false,
     "task": false
    }
   },
   "source": [
    "### Kullback-Leibler divergence loss\n",
    "\n",
    "One term of the loss function minimized during training of a VAE is the Kullback-Leibler divergence between the approximate distribution of the latent codes $q(z) = \\mathcal{N}(z \\mid \\mu_z, \\sigma^2_z)$ and the prior distribution $p(z) = \\mathcal{N}(z \\mid 0, I)$:\n",
    "$$\n",
    "\\sum_{i=1}^N\n",
    "    - \\int q(z_i) \\log \\frac{q(z_i)}{p(z_i)} dz_i\n",
    "$$\n",
    "where $N$ is the number of samples (batch size in our implementation).\n",
    "\n",
    "We will implement this loss function in the cell below.\n",
    "\n",
    "Note: Please do **not** use functions from `torch.distributions` module. "
   ]
  },
  {
   "cell_type": "code",
   "execution_count": 12,
   "metadata": {
    "deletable": false,
    "nbgrader": {
     "cell_type": "code",
     "checksum": "e4f8300a2b35d5a9edaa11e0f163013b",
     "grade": false,
     "grade_id": "loss_kl",
     "locked": false,
     "schema_version": 3,
     "solution": true,
     "task": false
    }
   },
   "outputs": [],
   "source": [
    "def loss_kl(z_mean, z_logvar):\n",
    "    \"\"\"\n",
    "    Args:\n",
    "      z_mean of shape (batch_size, n_components): Means of the approximate distributions of the codes.\n",
    "      z_logvar of shape (batch_size, n_components): Log-variance of the approximate distributions of the codes.\n",
    "    \n",
    "    Returns:\n",
    "      loss (torch scalar): Kullback-Leibler divergence.\n",
    "    \"\"\"\n",
    "    return  (-0.5 * torch.sum(1 + z_logvar - z_mean**2 - z_logvar.exp()))/(z_mean.shape[0])"
   ]
  },
  {
   "cell_type": "code",
   "execution_count": 13,
   "metadata": {
    "deletable": false,
    "editable": false,
    "nbgrader": {
     "cell_type": "code",
     "checksum": "fcd060012b8abdec87cb1b9af03c7fe7",
     "grade": true,
     "grade_id": "test_loss_kl",
     "locked": true,
     "points": 0.5,
     "schema_version": 3,
     "solution": false,
     "task": false
    }
   },
   "outputs": [
    {
     "name": "stdout",
     "output_type": "stream",
     "text": [
      "loss: 0.3068528175354004\n",
      "expected: 0.3068528175354004\n",
      "Success\n"
     ]
    }
   ],
   "source": [
    "def test_loss_kl():\n",
    "    n_components = 2\n",
    "    z_mean = torch.zeros(3, n_components)\n",
    "    z_logvar = torch.log(2*torch.ones(3, n_components))\n",
    "    loss = loss_kl(z_mean, z_logvar)\n",
    "    expected = torch.tensor(0.3068528175354004)\n",
    "    print('loss:', loss.item())\n",
    "    print('expected:', expected.item())\n",
    "    assert torch.allclose(loss, expected, atol=1e-5), \"loss does not match expected value.\"\n",
    "    print('Success')\n",
    "\n",
    "test_loss_kl()"
   ]
  },
  {
   "cell_type": "markdown",
   "metadata": {
    "deletable": false,
    "editable": false,
    "nbgrader": {
     "cell_type": "markdown",
     "checksum": "66924777f9826c3ab16c4ffc55edf732",
     "grade": false,
     "grade_id": "cell-d0bf566448126c1a",
     "locked": true,
     "schema_version": 3,
     "solution": false,
     "task": false
    }
   },
   "source": [
    "## Decoder\n",
    "\n",
    "The decoder computes the predictive distribution of the data given latent code $z$ according to our\n",
    "assumed generative model:\n",
    "$$\n",
    "  p(x \\mid z) = \\mathcal{N}\\left(x \\mid \\mu_x(z), \\sigma^2_x(z) \\right)\n",
    "$$\n",
    "where $\\mu_x(z)$ and $\\sigma^2_x(z)$ are some deterministic functions that we need to learn.\n",
    "\n",
    "The proposed architecture of the decoder is similar to the one from Excercise 9.2:\n",
    "* Fully-connected layer with 250 output features, followed by ReLU\n",
    "* Fully-connected layer with 250 input features, followed by ReLU\n",
    "* `ConvTranspose2d` layer with kernel size 5 with 16 input channels, followed by ReLU\n",
    "* Two heads made of `ConvTranspose2d` layer with kernel size 5 with 6 input channels.\n",
    "\n",
    "The two heads are needed to produce two outputs of the decoder:\n",
    "* means $\\mu_x$ of the predictive distribution of the data\n",
    "* log-variance $\\tilde x$ of the predictive distribution of the data.\n",
    "To guarantee that the variance is positive, we parameterize it as $\\sigma_x^2 = \\exp(\\tilde x)$.\n",
    "\n",
    "**Important:**\n",
    "\n",
    "In practice, learning the proposed generative model is difficult for the varianceMNIST dataset. The problem is that the background pixels have zero variances, which corresponds to infinitely low loss values. Thus, training may concentrate entirely on modeling the variance of the background pixels. To prevent this, we define the minimum allowed value of the predictive variance $\\tilde x$ and save it in the model as\n",
    "```\n",
    "    self.register_buffer('min_logvar', -6 * torch.ones(1))\n",
    "```\n",
    "We need to use `register_buffer` to make sure that the variable is on the same device as the trained parameters of the model. We can use this code in the forward function to limit the predicted variance by `self.min_logvar`:\n",
    "```\n",
    "logvar = self.min_logvar + F.softplus(logvar - self.min_logvar)\n",
    "```"
   ]
  },
  {
   "cell_type": "code",
   "execution_count": 14,
   "metadata": {
    "deletable": false,
    "nbgrader": {
     "cell_type": "code",
     "checksum": "c3a01df8b87bffc6c9de1b578dbcf080",
     "grade": false,
     "grade_id": "decoder",
     "locked": false,
     "schema_version": 3,
     "solution": true,
     "task": false
    }
   },
   "outputs": [],
   "source": [
    "class Decoder(nn.Module):\n",
    "    def __init__(self, n_components):\n",
    "        super(Decoder, self).__init__()\n",
    "        self.fc1 = nn.Linear(n_components, 250)\n",
    "        self.fc2 = nn.Linear(250, 16*20*20)\n",
    "        self.deconv1 = nn.ConvTranspose2d(in_channels=16, out_channels=6, kernel_size=5)\n",
    "        self.deconv2 = nn.ConvTranspose2d(in_channels=6, out_channels=1, kernel_size=5)\n",
    "        self.deconv3 = nn.ConvTranspose2d(in_channels=6, out_channels=1, kernel_size=5)\n",
    "        self.register_buffer('min_logvar', -6 * torch.ones(1))\n",
    "\n",
    "    def forward(self, x):\n",
    "        dec = F.relu(self.fc2(F.relu(self.fc1(x))))\n",
    "        dec = dec.view((x.shape[0],16,20,20))\n",
    "        dec = F.relu(self.deconv1(dec))\n",
    "        logvar =  self.deconv3(dec)\n",
    "        logvar = self.min_logvar + F.softplus(logvar - self.min_logvar)\n",
    "        return self.deconv2(dec), logvar\n",
    "        "
   ]
  },
  {
   "cell_type": "code",
   "execution_count": 15,
   "metadata": {},
   "outputs": [
    {
     "name": "stdout",
     "output_type": "stream",
     "text": [
      "Success\n"
     ]
    }
   ],
   "source": [
    "def test_Decoder_shapes():\n",
    "    n_components = 10 # dimensional latent space\n",
    "    decoder = Decoder(n_components=n_components)\n",
    "\n",
    "    z = torch.randn(3, n_components)\n",
    "    y_mean, y_logvar = decoder(z)\n",
    "    y_shape = torch.Size([3, 1, 28, 28])\n",
    "    assert y_mean.shape == y_shape, \"Bad shape of y_mean: y_mean.shape={}\".format(y_mean.shape)\n",
    "    assert y_logvar.shape == y_shape, \"Bad shape of y_logvar: y_logvar.shape={}\".format(y_logvar.shape)\n",
    "    print('Success')\n",
    "\n",
    "test_Decoder_shapes()"
   ]
  },
  {
   "cell_type": "markdown",
   "metadata": {
    "deletable": false,
    "editable": false,
    "nbgrader": {
     "cell_type": "markdown",
     "checksum": "0b1f586bd355faab788788b3ec3350ef",
     "grade": false,
     "grade_id": "cell-e452fa6333e86cb0",
     "locked": true,
     "schema_version": 3,
     "solution": false,
     "task": false
    }
   },
   "source": [
    "### Expected log-likelihood term\n",
    "\n",
    "The second term of the VAE loss function is minus log-likelihood estimated using sample $z_i$ from the approximate distribution $q(z_i)$ of the latent code that corresponds to training example $x_i$.\n",
    "\n",
    "$$\n",
    "- \\int q(z_i) \\log \\mathcal{N}\\left(x_i \\mid \\mu_x(z_i), \\:\\text{diag}(\\sigma^2_x(z_i))\\right) dz_i\n",
    "$$\n",
    "where $\\mathcal{N}(x_i)$ is a multivariate normal distribution over all pixel values of image $x_i$.\n",
    "\n",
    "Your task is to implement that function **without** constant terms\n",
    "$$\n",
    "\\frac{28 \\cdot 28}{2} \\log 2 \\pi\n",
    "$$\n",
    "that do not depend on $\\mu_x(z_i)$ or $\\sigma_x(z_i)$."
   ]
  },
  {
   "cell_type": "code",
   "execution_count": 16,
   "metadata": {
    "deletable": false,
    "nbgrader": {
     "cell_type": "code",
     "checksum": "2ec86ab777637ddb25fefbd0e599a11a",
     "grade": false,
     "grade_id": "loss_loglik",
     "locked": false,
     "schema_version": 3,
     "solution": true,
     "task": false
    }
   },
   "outputs": [],
   "source": [
    "def loss_loglik(y_mean, y_logvar, x):\n",
    "    \"\"\"\n",
    "    Args:\n",
    "      y_mean of shape (batch_size, 1, 28, 28): Predictive mean of the VAE reconstruction of x.\n",
    "      y_logvar of shape (batch_size, 1, 28, 28): Predictive log-variance of the VAE reconstruction of x.\n",
    "      x of shape (batch_size, 1, 28, 28): Training samples.\n",
    "    \n",
    "    Returns:\n",
    "      loss (torch scalar): Expected log-likelihood loss.\n",
    "    \"\"\"\n",
    "    \n",
    "    return torch.sum(0.5*( y_logvar +  (x-y_mean)**2/y_logvar.exp()))/x.shape[0]"
   ]
  },
  {
   "cell_type": "code",
   "execution_count": 17,
   "metadata": {
    "deletable": false,
    "editable": false,
    "nbgrader": {
     "cell_type": "code",
     "checksum": "c83cddd1b0e851d4e1406881b0e1ea5b",
     "grade": true,
     "grade_id": "test_loss_loglik",
     "locked": true,
     "points": 0.5,
     "schema_version": 3,
     "solution": false,
     "task": false
    }
   },
   "outputs": [
    {
     "name": "stdout",
     "output_type": "stream",
     "text": [
      "loss: tensor(135.8568)\n",
      "expected: tensor(135.8568)\n",
      "Success\n"
     ]
    }
   ],
   "source": [
    "def test_loss_loglik():\n",
    "    y_mean = torch.zeros(1, 1, 28, 28)\n",
    "    y_logvar = torch.log(2*torch.ones(1, 1, 28, 28))\n",
    "    y_logvar[:,:,:14,:] = torch.log(torch.ones(1, 1, 14, 28))\n",
    "\n",
    "    x = torch.zeros(1, 1, 28, 28)\n",
    "    x[:,:,:14,:] = torch.zeros(1, 1, 14, 28)\n",
    "\n",
    "    loss = loss_loglik(y_mean, y_logvar, x)\n",
    "    expected = torch.tensor(135.85682678222656)\n",
    "    \n",
    "    print('loss:', loss)\n",
    "    print('expected:', expected)\n",
    "    assert torch.allclose(loss, expected), \"loss does not match expected value.\"\n",
    "    print('Success')\n",
    "\n",
    "test_loss_loglik()"
   ]
  },
  {
   "cell_type": "markdown",
   "metadata": {
    "deletable": false,
    "editable": false,
    "nbgrader": {
     "cell_type": "markdown",
     "checksum": "27ee32c4fd471ea2f5f2fe1a53182afa",
     "grade": false,
     "grade_id": "cell-9ca6445aad88892a",
     "locked": true,
     "schema_version": 3,
     "solution": false,
     "task": false
    }
   },
   "source": [
    "# Train a variational autoencoder"
   ]
  },
  {
   "cell_type": "code",
   "execution_count": 18,
   "metadata": {
    "deletable": false,
    "editable": false,
    "nbgrader": {
     "cell_type": "code",
     "checksum": "40908985c2e2acef6a8cbafcd865d733",
     "grade": false,
     "grade_id": "cell-3580d8de6f07ed5e",
     "locked": true,
     "schema_version": 3,
     "solution": false,
     "task": false
    }
   },
   "outputs": [],
   "source": [
    "# Create a variational autoencoder\n",
    "n_components = 10 # dimensional latent space\n",
    "encoder = Encoder(n_components=n_components)\n",
    "decoder = Decoder(n_components=n_components)\n",
    "\n",
    "encoder = encoder.to(device)\n",
    "decoder = decoder.to(device)"
   ]
  },
  {
   "cell_type": "markdown",
   "metadata": {
    "deletable": false,
    "editable": false,
    "nbgrader": {
     "cell_type": "markdown",
     "checksum": "89a83792247322d12d7506e833e44cd4",
     "grade": false,
     "grade_id": "cell-c1d47e180f13d2d6",
     "locked": true,
     "schema_version": 3,
     "solution": false,
     "task": false
    }
   },
   "source": [
    "### Training loop\n",
    "\n",
    "Implement the training loop in the cell below. One iteration of the training loop process one mini-batch of data in the following way:\n",
    "* The encoder is used to compute approximate distributions $q(z)$ of the latent codes corresponding to the training samples.\n",
    "* One sample $z_i$ is drawn from each approximate posterior $q(z)$ (use function `Encoder.sample()` for that).\n",
    "* The decoder uses samples $z_i$ to compute the predictive distribution for the training examples.\n",
    "* The minimized loss is the sum of the KL-divergence loss `loss_kl()` and the expected log-likelihood loss `loss_loglik()` defined earlier.\n",
    "\n",
    "Implement the training loop in the cell below. The recommended hyperparameters:\n",
    "* Adam optimizer with learning rate 0.001\n",
    "* Number of epochs: 10\n",
    "\n",
    "Hints:\n",
    "- The loss at convergence should be close to -1760."
   ]
  },
  {
   "cell_type": "code",
   "execution_count": 19,
   "metadata": {
    "deletable": false,
    "nbgrader": {
     "cell_type": "code",
     "checksum": "faf6819518f47043935cf238a18b325a",
     "grade": false,
     "grade_id": "training_loop",
     "locked": false,
     "schema_version": 3,
     "solution": true,
     "task": false
    }
   },
   "outputs": [],
   "source": [
    "# Training loop\n",
    "if not skip_training:\n",
    "    %matplotlib inline\n",
    "    import time\n",
    "    import pylab as pl\n",
    "    from IPython import display\n",
    "    \n",
    "    def live_plot(data):\n",
    "        pl.plot(data)\n",
    "        display.clear_output(wait=True)\n",
    "        display.display(pl.gcf())\n",
    "    \n",
    "    encoder.train()\n",
    "    decoder.train()\n",
    "    optim = torch.optim.Adam(list(encoder.parameters())+list(decoder.parameters()), lr=0.001)\n",
    "    loss_values = []\n",
    "    for i in range(4):\n",
    "        for image, labels in trainloader:\n",
    "            optim.zero_grad()  \n",
    "            enc_mu, enc_var = encoder(image)\n",
    "            enc_out = encoder.sample(enc_mu, enc_var)\n",
    "            dec_mu, dec_var = decoder(enc_out)\n",
    "            loss = loss_kl(enc_mu, enc_var) + loss_loglik(dec_mu, dec_var, image)\n",
    "            loss.backward()\n",
    "            optim.step()\n",
    "        loss_values.append(loss.item())\n",
    "        live_plot(loss_values)\n",
    "        print('Epoch: %d. Training loss: %f' % (i+1, loss.item()))"
   ]
  },
  {
   "cell_type": "code",
   "execution_count": 20,
   "metadata": {
    "deletable": false,
    "editable": false,
    "nbgrader": {
     "cell_type": "code",
     "checksum": "d9ad3cf5c68037ca094b754c4397e312",
     "grade": false,
     "grade_id": "cell-0aaedbfc914ebad7",
     "locked": true,
     "schema_version": 3,
     "solution": false,
     "task": false
    }
   },
   "outputs": [
    {
     "name": "stdout",
     "output_type": "stream",
     "text": [
      "Model loaded from 9_vae_encoder.pth.\n",
      "Model loaded from 9_vae_decoder.pth.\n"
     ]
    }
   ],
   "source": [
    "# Save the model to disk (the pth-files will be submitted automatically together with your notebook)\n",
    "if not skip_training:\n",
    "    tools.save_model(encoder, '9_vae_encoder.pth')\n",
    "    tools.save_model(decoder, '9_vae_decoder.pth')\n",
    "else:\n",
    "    encoder = Encoder(n_components=10)\n",
    "    tools.load_model(encoder, '9_vae_encoder.pth', device)\n",
    "\n",
    "    decoder = Decoder(n_components=10)\n",
    "    tools.load_model(decoder, '9_vae_decoder.pth', device)"
   ]
  },
  {
   "cell_type": "markdown",
   "metadata": {
    "deletable": false,
    "editable": false,
    "nbgrader": {
     "cell_type": "markdown",
     "checksum": "df03e6a015bc497380adf237d7a7655e",
     "grade": false,
     "grade_id": "cell-6c9ae1497b99a8c2",
     "locked": true,
     "schema_version": 3,
     "solution": false,
     "task": false
    }
   },
   "source": [
    "### Visualize embeddings\n",
    "\n",
    "Let us visualize the latent space in the cell below. If your VAE does a good job, you should clearly see ten clusters corresponding to the ten classes."
   ]
  },
  {
   "cell_type": "code",
   "execution_count": 21,
   "metadata": {
    "deletable": false,
    "editable": false,
    "nbgrader": {
     "cell_type": "code",
     "checksum": "ab5f46e25d6e2efb6e09b79a584fbb0c",
     "grade": false,
     "grade_id": "cell-63ea155392dc41d6",
     "locked": true,
     "schema_version": 3,
     "solution": false,
     "task": false
    }
   },
   "outputs": [
    {
     "name": "stdout",
     "output_type": "stream",
     "text": [
      "Use t-SNE\n"
     ]
    },
    {
     "data": {
      "image/png": "[encoded data removed]",
      "text/plain": [
       "<Figure size 432x288 with 1 Axes>"
      ]
     },
     "metadata": {
      "needs_background": "light"
     },
     "output_type": "display_data"
    }
   ],
   "source": [
    "tests.visualize_embeddings(lambda x: encoder(x)[0], trainloader, n_samples=1000, device=device)"
   ]
  },
  {
   "cell_type": "code",
   "execution_count": 22,
   "metadata": {
    "deletable": false,
    "editable": false,
    "nbgrader": {
     "cell_type": "code",
     "checksum": "5661065e6812b83447497e41f51a4608",
     "grade": false,
     "grade_id": "cell-6154636b2213a564",
     "locked": true,
     "schema_version": 3,
     "solution": false,
     "task": false
    }
   },
   "outputs": [
    {
     "data": {
      "image/png": "[encoded data removed]",
      "text/plain": [
       "<Figure size 576x576 with 1 Axes>"
      ]
     },
     "metadata": {},
     "output_type": "display_data"
    },
    {
     "data": {
      "image/png": "[encoded data removed]",
      "text/plain": [
       "<Figure size 576x576 with 1 Axes>"
      ]
     },
     "metadata": {},
     "output_type": "display_data"
    }
   ],
   "source": [
    "# In this cell, we visualize predictive variances of the model for each pixel.\n",
    "# For a well-trained VAE, the variances should capture the shapes of the digits.\n",
    "with torch.no_grad():\n",
    "    dataiter = iter(trainloader)\n",
    "    images, _ = dataiter.next()\n",
    "    z_mean, z_logvar = encoder(images.to(device))\n",
    "    y_mean, y_logvar = decoder(z_mean)\n",
    "\n",
    "    # Visualize some data samples\n",
    "    tools.plot_images(images[:8], ncol=4, cmap=plt.cm.bwr, clim=[-3,3])\n",
    "    # Visualize corresponding predictive variance in the pixel space\n",
    "    tools.plot_images(torch.exp(y_logvar[:8]), ncol=4)"
   ]
  },
  {
   "cell_type": "code",
   "execution_count": 23,
   "metadata": {
    "deletable": false,
    "editable": false,
    "nbgrader": {
     "cell_type": "code",
     "checksum": "88694ae55e162a5a24e448f7179293c6",
     "grade": false,
     "grade_id": "cell-bfa2da2d48cb1327",
     "locked": true,
     "schema_version": 3,
     "solution": false,
     "task": false
    }
   },
   "outputs": [
    {
     "data": {
      "image/png": "[encoded data removed]",
      "text/plain": [
       "<Figure size 576x576 with 1 Axes>"
      ]
     },
     "metadata": {},
     "output_type": "display_data"
    },
    {
     "data": {
      "image/png": "[encoded data removed]",
      "text/plain": [
       "<Figure size 576x576 with 1 Axes>"
      ]
     },
     "metadata": {},
     "output_type": "display_data"
    }
   ],
   "source": [
    "# Generate samples from VAE\n",
    "# Note that samples may not be of great quality because we did not optimize the architecture of our VAE.\n",
    "with torch.no_grad():\n",
    "    z = torch.randn((8, 10)).to(device)\n",
    "    x_mean, x_logvar = decoder(z)\n",
    "    x = x_mean + torch.exp(0.5 * x_logvar) * torch.randn_like(x_logvar)\n",
    "    tools.plot_images(x[:8], ncol=4, cmap=plt.cm.bwr, clim=[-3,3])\n",
    "    tools.plot_images(torch.exp(x_logvar[:8]), ncol=4)"
   ]
  },
  {
   "cell_type": "markdown",
   "metadata": {
    "deletable": false,
    "editable": false,
    "nbgrader": {
     "cell_type": "markdown",
     "checksum": "5fd0c3a2c4743f176406b5ba995a6d6f",
     "grade": false,
     "grade_id": "cell-ca045d30afe73d6a",
     "locked": true,
     "schema_version": 3,
     "solution": false,
     "task": false
    }
   },
   "source": [
    "# Test the quality of the produced embeddings by classification\n",
    "\n",
    "We will test the quality of the produced encodings by training a classifier using the encoded images."
   ]
  },
  {
   "cell_type": "code",
   "execution_count": 24,
   "metadata": {
    "deletable": false,
    "editable": false,
    "nbgrader": {
     "cell_type": "code",
     "checksum": "7831b30b81c920308549fa300c9ca8f1",
     "grade": false,
     "grade_id": "cell-56d5d63f5cec4de3",
     "locked": true,
     "schema_version": 3,
     "solution": false,
     "task": false
    }
   },
   "outputs": [],
   "source": [
    "testset = torchvision.datasets.MNIST(root=data_dir, train=False, download=True, transform=transform)\n",
    "testloader = torch.utils.data.DataLoader(testset, batch_size=100, shuffle=False)"
   ]
  },
  {
   "cell_type": "code",
   "execution_count": 25,
   "metadata": {
    "deletable": false,
    "editable": false,
    "nbgrader": {
     "cell_type": "code",
     "checksum": "3460c619d4606beb377f02635a6eb019",
     "grade": false,
     "grade_id": "cell-a12c49a87f4cfe60",
     "locked": true,
     "schema_version": 3,
     "solution": false,
     "task": false
    }
   },
   "outputs": [],
   "source": [
    "# Encode data samples using the VAE encoder\n",
    "def encode(dataset, dae):\n",
    "    dataloader = torch.utils.data.DataLoader(dataset, batch_size=100, shuffle=False)\n",
    "    with torch.no_grad():\n",
    "        embeddings = []\n",
    "        labels = []\n",
    "        for images, labels_ in dataloader:\n",
    "            mu, logsigma = encoder(images.to(device))\n",
    "            embeddings.append(mu)\n",
    "            labels.append(labels_)\n",
    "\n",
    "        embeddings = torch.cat(embeddings, dim=0)\n",
    "        labels = torch.cat(labels, dim=0)\n",
    "    return embeddings, labels\n",
    "\n",
    "traincodes, trainlabels = encode(trainset, encoder)  # traincodes is (60000, 10)\n",
    "testcodes, testlabels = encode(testset, encoder)  # testcodes is (10000, 10)"
   ]
  },
  {
   "cell_type": "code",
   "execution_count": 26,
   "metadata": {
    "deletable": false,
    "editable": false,
    "nbgrader": {
     "cell_type": "code",
     "checksum": "0293e9c2fc61a14807da93a22909b005",
     "grade": true,
     "grade_id": "accuracy",
     "locked": true,
     "points": 1,
     "schema_version": 3,
     "solution": false,
     "task": false
    }
   },
   "outputs": [
    {
     "name": "stdout",
     "output_type": "stream",
     "text": [
      "Accuracy with a linear classifier: 88.01%\n",
      "Success\n"
     ]
    }
   ],
   "source": [
    "# Train a simple linear classifier\n",
    "from sklearn.linear_model import LogisticRegression\n",
    "\n",
    "logreg = LogisticRegression(C=1e5, solver='lbfgs', multi_class='multinomial', max_iter=400)\n",
    "logreg.fit(traincodes.cpu(), trainlabels.cpu())\n",
    "\n",
    "predicted_labels = logreg.predict(testcodes.cpu())  # (10000,)\n",
    "\n",
    "# Compute accuracy of the linear classifier\n",
    "accuracy = np.sum(testlabels.cpu().numpy() == predicted_labels) / predicted_labels.size\n",
    "print('Accuracy with a linear classifier: %.2f%%' % (accuracy*100))\n",
    "assert accuracy > .8, \"Poor accuracy of the embeddings: classification accuracy is %.2f%%\" % (accuracy*100)\n",
    "print('Success')"
   ]
  },
  {
   "cell_type": "markdown",
   "metadata": {
    "deletable": false,
    "editable": false,
    "nbgrader": {
     "cell_type": "markdown",
     "checksum": "40172e3e2ef83adcd8976fdedad2eb92",
     "grade": false,
     "grade_id": "cell-1f55c6b88b80405b",
     "locked": true,
     "schema_version": 3,
     "solution": false,
     "task": false
    }
   },
   "source": [
    "<div class=\"alert alert-block alert-info\">\n",
    "<b>Conclusion</b>\n",
    "</div>\n",
    "\n",
    "In this exercise, we trained a variational autoencoder on a dataset in which useful information is in the variance of the pixel values and not the pixel values themselves. The code produced by the encoder of the VAE is only $10$-dimensional compared to the original $28 \\times 28 = 784$-dimensional data. Still, the codes capture well the shapes of the digits."
   ]
  }
 ],
 "metadata": {
  "kernelspec": {
   "display_name": "Python 3",
   "language": "python",
   "name": "python3"
  },
  "language_info": {
   "codemirror_mode": {
    "name": "ipython",
    "version": 3
   },
   "file_extension": ".py",
   "mimetype": "text/x-python",
   "name": "python",
   "nbconvert_exporter": "python",
   "pygments_lexer": "ipython3",
   "version": "3.7.3"
  },
  "varInspector": {
   "cols": {
    "lenName": 16,
    "lenType": 16,
    "lenVar": 40
   },
   "kernels_config": {
    "python": {
     "delete_cmd_postfix": "",
     "delete_cmd_prefix": "del ",
     "library": "var_list.py",
     "varRefreshCmd": "print(var_dic_list())"
    },
    "r": {
     "delete_cmd_postfix": ") ",
     "delete_cmd_prefix": "rm(",
     "library": "var_list.r",
     "varRefreshCmd": "cat(var_dic_list()) "
    }
   },
   "types_to_exclude": [
    "module",
    "function",
    "builtin_function_or_method",
    "instance",
    "_Feature"
   ],
   "window_display": false
  }
 },
 "nbformat": 4,
 "nbformat_minor": 2
}
