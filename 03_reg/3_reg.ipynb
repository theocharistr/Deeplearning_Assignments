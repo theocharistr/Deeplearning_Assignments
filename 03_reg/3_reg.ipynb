{
 "cells": [
  {
   "cell_type": "markdown",
   "metadata": {
    "deletable": false,
    "editable": false,
    "nbgrader": {
     "cell_type": "markdown",
     "checksum": "7c1bee27c93b0b6cc17acb2ebfb8308f",
     "grade": false,
     "grade_id": "cell-51463f10ee76cd64",
     "locked": true,
     "schema_version": 3,
     "solution": false
    }
   },
   "source": [
    "<div class=\"alert alert-block alert-info\">\n",
    "<b>This notebook does not contain exercise problems.</b><br>\n",
    "<b>Number of points for this notebook:</b> 0\n",
    "</div>\n",
    "\n",
    "\n",
    "# Exercise 3. Regularization\n",
    "\n",
    "In this exercise, we will try a few methods to prevent overfitting of an MLP network to training data."
   ]
  },
  {
   "cell_type": "code",
   "execution_count": 1,
   "metadata": {
    "deletable": false,
    "editable": false,
    "nbgrader": {
     "cell_type": "code",
     "checksum": "89eafa7d4bf4cda42733b1386906f228",
     "grade": false,
     "grade_id": "cell-8acec5e99baf1c33",
     "locked": true,
     "schema_version": 3,
     "solution": false
    }
   },
   "outputs": [],
   "source": [
    "import numpy as np\n",
    "import matplotlib.pyplot as plt\n",
    "\n",
    "import torch\n",
    "import torch.nn as nn\n",
    "import torch.nn.functional as F\n",
    "from torch.optim.lr_scheduler import StepLR"
   ]
  },
  {
   "cell_type": "markdown",
   "metadata": {
    "deletable": false,
    "editable": false,
    "nbgrader": {
     "cell_type": "markdown",
     "checksum": "e6014000b3e03dbc1e2368b986f570d7",
     "grade": false,
     "grade_id": "cell-b4a55be0cb567e24",
     "locked": true,
     "schema_version": 3,
     "solution": false
    }
   },
   "source": [
    "## Regression problem\n",
    "We will look at a regression problem where the task is to estimate a function of one variable\n",
    "$$y = f(x)$$\n",
    "using a set of training examples $(x_1, y_1), \\ldots, (x_n, y_n)$."
   ]
  },
  {
   "cell_type": "markdown",
   "metadata": {
    "deletable": false,
    "editable": false,
    "nbgrader": {
     "cell_type": "markdown",
     "checksum": "baeb8a3430abfe96373c944354ee3f75",
     "grade": false,
     "grade_id": "cell-602ebca68e883d0c",
     "locked": true,
     "schema_version": 3,
     "solution": false
    }
   },
   "source": [
    "Let us first generate training examples $y_i=\\sin(x_i) + n_i$ with $x_i$ drawn from the uniform distribution in $[-0.5, 0.5]$ and noise $n_i$ drawn from the Gaussian distribution."
   ]
  },
  {
   "cell_type": "code",
   "execution_count": 2,
   "metadata": {
    "deletable": false,
    "editable": false,
    "nbgrader": {
     "cell_type": "code",
     "checksum": "b594e80ac24979b2279e66e51a4391a2",
     "grade": false,
     "grade_id": "cell-b0d3a2083dc9a6af",
     "locked": true,
     "schema_version": 3,
     "solution": false
    }
   },
   "outputs": [],
   "source": [
    "np.random.seed(1)\n",
    "n = 150\n",
    "x = np.random.rand(n, 1)-0.5\n",
    "\n",
    "def fun(x):\n",
    "    y = np.cos(2* np.pi * x)\n",
    "    y += 0.3 * np.random.randn(*x.shape)\n",
    "    return y\n",
    "\n",
    "y = fun(x)\n",
    "\n",
    "# Convert to PyTorch tensors\n",
    "x = torch.tensor(x).float()\n",
    "y = torch.tensor(y).float()"
   ]
  },
  {
   "cell_type": "markdown",
   "metadata": {
    "deletable": false,
    "editable": false,
    "nbgrader": {
     "cell_type": "markdown",
     "checksum": "083ad76a86a911e9119a37c5e664a35d",
     "grade": false,
     "grade_id": "cell-4ffc8ddcb1221702",
     "locked": true,
     "schema_version": 3,
     "solution": false
    }
   },
   "source": [
    "Let us split the data into training, validation and test sets and plot the training and validation sets. And let us plot the data."
   ]
  },
  {
   "cell_type": "code",
   "execution_count": 3,
   "metadata": {
    "deletable": false,
    "editable": false,
    "nbgrader": {
     "cell_type": "code",
     "checksum": "009e21660a7d1af371ac29ad7358fa44",
     "grade": false,
     "grade_id": "cell-293526f20c9d5aa0",
     "locked": true,
     "schema_version": 3,
     "solution": false
    }
   },
   "outputs": [],
   "source": [
    "# Split the data into training, validation and test sets\n",
    "torch.manual_seed(3)\n",
    "rp = torch.randperm(x.size(0))\n",
    "\n",
    "n_train = int(x.size(0) * 0.5)\n",
    "x_train, y_train = x[rp[:n_train]], y[rp[:n_train]]\n",
    "x_test, y_test = x[rp[n_train:]], y[rp[n_train:]]"
   ]
  },
  {
   "cell_type": "code",
   "execution_count": 4,
   "metadata": {},
   "outputs": [
    {
     "data": {
      "text/plain": [
       "[<matplotlib.lines.Line2D at 0x7fb4f0b88f98>]"
      ]
     },
     "execution_count": 4,
     "metadata": {},
     "output_type": "execute_result"
    },
    {
     "data": {
      "image/png": "[encoded data removed]",
      "text/plain": [
       "<Figure size 432x288 with 1 Axes>"
      ]
     },
     "metadata": {
      "needs_background": "light"
     },
     "output_type": "display_data"
    }
   ],
   "source": [
    "# Plot the data\n",
    "fix, ax = plt.subplots(1)\n",
    "ax.plot(x_train, y_train, 'b.')\n",
    "ax.plot(x_test, y_test, 'r.')"
   ]
  },
  {
   "cell_type": "markdown",
   "metadata": {
    "deletable": false,
    "editable": false,
    "nbgrader": {
     "cell_type": "markdown",
     "checksum": "2a85c70f5144240f62108369d9e9111c",
     "grade": false,
     "grade_id": "cell-14cf094e013cff8b",
     "locked": true,
     "schema_version": 3,
     "solution": false
    }
   },
   "source": [
    "## Define a multi-layer perceptron (MLP) network with two hidden layers\n",
    "\n",
    "In the code below, we define a neural network architecture with:\n",
    "* input dimension 1\n",
    "* one hidden layer with 100 units with tanh nonlinearity\n",
    "* one hidden layer with 100 units with tanh nonlinearity\n",
    "* linear output layer with output dimension 1"
   ]
  },
  {
   "cell_type": "code",
   "execution_count": 5,
   "metadata": {
    "deletable": false,
    "editable": false,
    "nbgrader": {
     "cell_type": "code",
     "checksum": "7cad5c09c9afe1a5d925d1f269b68f55",
     "grade": false,
     "grade_id": "cell-5e9ca1bfff94cd3a",
     "locked": true,
     "schema_version": 3,
     "solution": false
    }
   },
   "outputs": [],
   "source": [
    "class MLP(nn.Module):\n",
    "    def __init__(self):\n",
    "        super(MLP, self).__init__()\n",
    "        self.net = nn.Sequential(\n",
    "            nn.Linear(1, 100),\n",
    "            nn.Tanh(),\n",
    "            nn.Linear(100, 100),\n",
    "            nn.Tanh(),\n",
    "            nn.Linear(100, 1))\n",
    "\n",
    "    def forward(self, x):\n",
    "        return self.net(x)"
   ]
  },
  {
   "cell_type": "markdown",
   "metadata": {},
   "source": [
    "We will use the following functions to assess the quality of the trained network."
   ]
  },
  {
   "cell_type": "code",
   "execution_count": 6,
   "metadata": {
    "deletable": false,
    "editable": false,
    "nbgrader": {
     "cell_type": "code",
     "checksum": "10b7050a530a4508bcfa39487670009c",
     "grade": false,
     "grade_id": "cell-7f577b3aa66712c6",
     "locked": true,
     "schema_version": 3,
     "solution": false
    }
   },
   "outputs": [],
   "source": [
    "# This visualizes the function implemented by an MLP\n",
    "def plot_fit(mlp, x, y):\n",
    "    fig, ax = plt.subplots(1)\n",
    "    ax.plot(x, y, '.')\n",
    "    mlp.eval()\n",
    "    with torch.no_grad():\n",
    "        x = torch.tensor(np.linspace(-0.5, 0.5, 100).reshape((-1, 1))).float()\n",
    "        pred = mlp.forward(x)\n",
    "    ax.plot(x, pred)\n",
    "\n",
    "# This is the function to compute the loss:\n",
    "def compute_loss(mlp, x, y):\n",
    "    mlp.eval()\n",
    "    with torch.no_grad():\n",
    "        outputs = mlp.forward(x)\n",
    "        loss = F.mse_loss(outputs, y)\n",
    "        return loss.cpu().numpy()\n",
    "\n",
    "# This is the function to print the progress during training\n",
    "def print_progress(epoch, train_error, test_error):\n",
    "    print(f'Epoch {epoch+1}: Train error: {train_error:.2f}, Test error: {test_error:.2f}')"
   ]
  },
  {
   "cell_type": "code",
   "execution_count": 7,
   "metadata": {
    "deletable": false,
    "editable": false,
    "nbgrader": {
     "cell_type": "code",
     "checksum": "f1879975682e6edab1ba8616b84c9001",
     "grade": false,
     "grade_id": "cell-a8e07d60f53a59e0",
     "locked": true,
     "schema_version": 3,
     "solution": false
    }
   },
   "outputs": [
    {
     "data": {
      "image/png": "[encoded data removed]",
      "text/plain": [
       "<Figure size 432x288 with 1 Axes>"
      ]
     },
     "metadata": {
      "needs_background": "light"
     },
     "output_type": "display_data"
    }
   ],
   "source": [
    "# Create an MLP\n",
    "mlp = MLP()\n",
    "\n",
    "# Plot the function implemented by the MLP\n",
    "plot_fit(mlp, x_train, y_train)"
   ]
  },
  {
   "cell_type": "markdown",
   "metadata": {
    "deletable": false,
    "editable": false,
    "nbgrader": {
     "cell_type": "markdown",
     "checksum": "0556343b1cc1fb1219188a2ccfa636da",
     "grade": false,
     "grade_id": "cell-38e864109561c7c3",
     "locked": true,
     "schema_version": 3,
     "solution": false
    }
   },
   "source": [
    "## Train the MLP network without regularization\n",
    "Training is done by minimizing the mean-squared error computed on the training data:\n",
    "$$c=\\sum_{i=1}^n || f(x_i) - y_i ||^2.$$\n",
    "\n",
    "Here, we train the network:\n",
    "* using all the data for computing the gradient (batch mode)\n",
    "* using `n_epochs` epochs (which is equal to the number of parameter updates in the batch mode)."
   ]
  },
  {
   "cell_type": "code",
   "execution_count": 8,
   "metadata": {
    "deletable": false,
    "editable": false,
    "nbgrader": {
     "cell_type": "code",
     "checksum": "ea35112cbfeb300db59acaa4be283990",
     "grade": false,
     "grade_id": "cell-f9a61df7e02fe5f0",
     "locked": true,
     "schema_version": 3,
     "solution": false
    }
   },
   "outputs": [
    {
     "name": "stdout",
     "output_type": "stream",
     "text": [
      "Epoch 500: Train error: 0.07, Test error: 0.11\n",
      "Epoch 1000: Train error: 0.07, Test error: 0.11\n",
      "Epoch 1500: Train error: 0.07, Test error: 0.11\n",
      "Epoch 2000: Train error: 0.06, Test error: 0.11\n",
      "Epoch 2500: Train error: 0.06, Test error: 0.13\n",
      "Epoch 3000: Train error: 0.05, Test error: 0.15\n",
      "Epoch 3500: Train error: 0.05, Test error: 0.16\n",
      "Epoch 4000: Train error: 0.05, Test error: 0.19\n",
      "Epoch 4500: Train error: 0.04, Test error: 0.19\n",
      "Epoch 5000: Train error: 0.03, Test error: 0.20\n",
      "Epoch 5500: Train error: 0.03, Test error: 0.21\n",
      "Epoch 6000: Train error: 0.02, Test error: 0.22\n",
      "Epoch 6500: Train error: 0.02, Test error: 0.22\n",
      "Epoch 7000: Train error: 0.02, Test error: 0.23\n",
      "Epoch 7500: Train error: 0.02, Test error: 0.25\n",
      "Epoch 8000: Train error: 0.02, Test error: 0.25\n",
      "Epoch 8500: Train error: 0.02, Test error: 0.27\n",
      "Epoch 9000: Train error: 0.01, Test error: 0.27\n",
      "Epoch 9500: Train error: 0.02, Test error: 0.28\n",
      "Epoch 10000: Train error: 0.02, Test error: 0.27\n"
     ]
    }
   ],
   "source": [
    "mlp = MLP()\n",
    "\n",
    "optimizer = torch.optim.Adam(mlp.parameters(), lr=0.01)\n",
    "n_epochs = 10000\n",
    "train_errors = []\n",
    "test_errors = []\n",
    "\n",
    "for epoch in range(n_epochs):\n",
    "\n",
    "    optimizer.zero_grad()\n",
    "    outputs = mlp.forward(x_train)\n",
    "    loss = F.mse_loss(outputs, y_train)\n",
    "    loss.backward()\n",
    "    optimizer.step()\n",
    "\n",
    "    if (epoch+1) % 500 == 0:\n",
    "        train_errors.append(compute_loss(mlp, x_train, y_train))\n",
    "        test_errors.append(compute_loss(mlp, x_test, y_test))\n",
    "        print_progress(epoch, train_errors[-1], test_errors[-1])"
   ]
  },
  {
   "cell_type": "code",
   "execution_count": 9,
   "metadata": {
    "deletable": false,
    "editable": false,
    "nbgrader": {
     "cell_type": "code",
     "checksum": "0b60678fd22d0815ad951759ef214158",
     "grade": false,
     "grade_id": "cell-2fcb3919234f3be2",
     "locked": true,
     "schema_version": 3,
     "solution": false
    }
   },
   "outputs": [
    {
     "data": {
      "text/plain": [
       "[<matplotlib.lines.Line2D at 0x7fb4f0ad3b38>]"
      ]
     },
     "execution_count": 9,
     "metadata": {},
     "output_type": "execute_result"
    },
    {
     "data": {
      "image/png": "[encoded data removed]",
      "text/plain": [
       "<Figure size 432x288 with 1 Axes>"
      ]
     },
     "metadata": {
      "needs_background": "light"
     },
     "output_type": "display_data"
    }
   ],
   "source": [
    "# Plot the final fit\n",
    "plot_fit(mlp, x_train, y_train)\n",
    "plt.plot(x_test, y_test, '.')"
   ]
  },
  {
   "cell_type": "markdown",
   "metadata": {
    "deletable": false,
    "editable": false,
    "nbgrader": {
     "cell_type": "markdown",
     "checksum": "3a108841c5fbfbb3d4eced5606a0ff05",
     "grade": false,
     "grade_id": "cell-3dbf989a13b25a8a",
     "locked": true,
     "schema_version": 3,
     "solution": false
    }
   },
   "source": [
    "As you can see, the network overfits to the training data."
   ]
  },
  {
   "cell_type": "code",
   "execution_count": 10,
   "metadata": {},
   "outputs": [
    {
     "name": "stdout",
     "output_type": "stream",
     "text": [
      "Test loss without regularization: 0.27465\n"
     ]
    }
   ],
   "source": [
    "test_loss_no_regularization = compute_loss(mlp, x_test, y_test)\n",
    "print(\"Test loss without regularization: %.5f\" % test_loss_no_regularization)"
   ]
  },
  {
   "cell_type": "markdown",
   "metadata": {
    "deletable": false,
    "editable": false,
    "nbgrader": {
     "cell_type": "markdown",
     "checksum": "851eb7e44885c359e10589f00005f4cf",
     "grade": false,
     "grade_id": "cell-b6cf5359944d980f",
     "locked": true,
     "schema_version": 3,
     "solution": false
    }
   },
   "source": [
    "## Early stopping\n",
    "\n",
    "One of the simplest ways to avoid overfitting is to stop training when the validation error starts to grow."
   ]
  },
  {
   "cell_type": "code",
   "execution_count": 11,
   "metadata": {
    "deletable": false,
    "editable": false,
    "nbgrader": {
     "cell_type": "code",
     "checksum": "f0f4c80ef2c1a313498166287ac1aabf",
     "grade": false,
     "grade_id": "cell-f875cdf8b4e10b0f",
     "locked": true,
     "schema_version": 3,
     "solution": false
    }
   },
   "outputs": [
    {
     "data": {
      "text/plain": [
       "[<matplotlib.lines.Line2D at 0x7fb4e8904b70>]"
      ]
     },
     "execution_count": 11,
     "metadata": {},
     "output_type": "execute_result"
    },
    {
     "data": {
      "image/png": "[encoded data removed]",
      "text/plain": [
       "<Figure size 432x288 with 1 Axes>"
      ]
     },
     "metadata": {
      "needs_background": "light"
     },
     "output_type": "display_data"
    }
   ],
   "source": [
    "# Let us look at the learning curves: the evolution of training and validation errors during training\n",
    "fig, ax = plt.subplots(1)\n",
    "ax.loglog(train_errors)\n",
    "ax.loglog(test_errors)"
   ]
  },
  {
   "cell_type": "markdown",
   "metadata": {
    "deletable": false,
    "editable": false,
    "nbgrader": {
     "cell_type": "markdown",
     "checksum": "d3d8061a18ec107f1fcc8c4d7ec0c058",
     "grade": false,
     "grade_id": "cell-3d5bbf165b21b8aa",
     "locked": true,
     "schema_version": 3,
     "solution": false
    }
   },
   "source": [
    "In the code below, define a stopping creterion in function `stop_criterion`. Training should be stopped (function returns  `True`) when the validation error is larger than the best validation error obtained so far (with given `tolerance`) for `patience` epochs."
   ]
  },
  {
   "cell_type": "code",
   "execution_count": 12,
   "metadata": {
    "deletable": false,
    "editable": false,
    "nbgrader": {
     "cell_type": "code",
     "checksum": "9340b8f1820761b8566359cb6752ce30",
     "grade": false,
     "grade_id": "cell-a16c613b86b9876c",
     "locked": true,
     "schema_version": 3,
     "solution": false,
     "task": false
    }
   },
   "outputs": [],
   "source": [
    "class EarlyStopping:\n",
    "    def __init__(self, tolerance, patience):\n",
    "        \"\"\"\n",
    "        Args:\n",
    "          patience (int):    Maximum number of epochs with unsuccessful updates.\n",
    "          tolerance (float): We assume that the update is unsuccessful if the validation error is larger\n",
    "                              than the best validation error so far plus this tolerance.\n",
    "        \"\"\"\n",
    "        self.tolerance = tolerance\n",
    "        self.patience = patience\n",
    "    \n",
    "    def stop_criterion(self, test_errors):\n",
    "        \"\"\"\n",
    "        Args:\n",
    "          test_errors (iterable): Validation errors after every update during training.\n",
    "        \n",
    "        Returns: True if training should be stopped: when the validation error is larger than the best\n",
    "                  validation error obtained so far (with given tolearance) for patience epochs (number of consecutive epochs for which the criterion is satisfied).\n",
    "                 \n",
    "                 Otherwise, False.\n",
    "        \"\"\"\n",
    "        if len(test_errors) <= self.patience:\n",
    "            return False\n",
    "\n",
    "        min_val_error = min(test_errors)\n",
    "        test_errors = np.array(test_errors[-self.patience:])\n",
    "        return all(test_errors > min_val_error + self.tolerance)"
   ]
  },
  {
   "cell_type": "code",
   "execution_count": 13,
   "metadata": {
    "deletable": false,
    "editable": false,
    "nbgrader": {
     "cell_type": "code",
     "checksum": "2aa3767ad278b3bbe49be0dff40ef4e3",
     "grade": false,
     "grade_id": "cell-5e0eae47920604c3",
     "locked": true,
     "schema_version": 3,
     "solution": false
    }
   },
   "outputs": [
    {
     "name": "stdout",
     "output_type": "stream",
     "text": [
      "Epoch 50: Train error: 0.53, Test error: 0.59\n",
      "Epoch 100: Train error: 0.12, Test error: 0.14\n",
      "Epoch 150: Train error: 0.08, Test error: 0.11\n",
      "Epoch 200: Train error: 0.08, Test error: 0.11\n",
      "Epoch 250: Train error: 0.08, Test error: 0.11\n",
      "0.10811922\n",
      "Stop after 283 epochs\n"
     ]
    }
   ],
   "source": [
    "# Let's train the network with early stopping\n",
    "mlp = MLP()\n",
    "\n",
    "optimizer = torch.optim.Adam(mlp.parameters(), lr=0.001)\n",
    "n_epochs = 10000\n",
    "train_errors = []\n",
    "test_errors = []\n",
    "early_stop = EarlyStopping(tolerance=0.005, patience=20)\n",
    "\n",
    "for epoch in range(n_epochs):\n",
    "    optimizer.zero_grad()\n",
    "    outputs = mlp.forward(x_train)\n",
    "    loss = F.mse_loss(outputs, y_train)\n",
    "    loss.backward()\n",
    "    optimizer.step()\n",
    "\n",
    "    train_errors.append(compute_loss(mlp, x_train, y_train))\n",
    "    test_errors.append(compute_loss(mlp, x_test, y_test))\n",
    "\n",
    "    if early_stop.stop_criterion(test_errors):\n",
    "        print(test_errors[epoch])\n",
    "        print('Stop after %d epochs' % epoch)\n",
    "        break\n",
    "        \n",
    "    if (epoch+1) % 50 == 0:\n",
    "        print_progress(epoch, train_errors[epoch], test_errors[epoch])"
   ]
  },
  {
   "cell_type": "code",
   "execution_count": 14,
   "metadata": {
    "deletable": false,
    "editable": false,
    "nbgrader": {
     "cell_type": "code",
     "checksum": "9c57dce8d528abbb9c487fd4266f433e",
     "grade": false,
     "grade_id": "cell-812ee02395587c1d",
     "locked": true,
     "schema_version": 3,
     "solution": false
    }
   },
   "outputs": [
    {
     "data": {
      "text/plain": [
       "[<matplotlib.lines.Line2D at 0x7fb4e87fbe48>]"
      ]
     },
     "execution_count": 14,
     "metadata": {},
     "output_type": "execute_result"
    },
    {
     "data": {
      "image/png": "[encoded data removed]",
      "text/plain": [
       "<Figure size 432x288 with 1 Axes>"
      ]
     },
     "metadata": {
      "needs_background": "light"
     },
     "output_type": "display_data"
    }
   ],
   "source": [
    "# Plot the learning curves: the evolution of training and validation errors during training\n",
    "fig, ax = plt.subplots(1)\n",
    "ax.loglog(train_errors)\n",
    "ax.loglog(test_errors)"
   ]
  },
  {
   "cell_type": "code",
   "execution_count": 15,
   "metadata": {
    "deletable": false,
    "editable": false,
    "nbgrader": {
     "cell_type": "code",
     "checksum": "dc478da07030ff2766285548305c865b",
     "grade": false,
     "grade_id": "cell-a4cc056169219a4f",
     "locked": true,
     "schema_version": 3,
     "solution": false
    }
   },
   "outputs": [
    {
     "data": {
      "image/png": "[encoded data removed]",
      "text/plain": [
       "<Figure size 432x288 with 1 Axes>"
      ]
     },
     "metadata": {
      "needs_background": "light"
     },
     "output_type": "display_data"
    }
   ],
   "source": [
    "# Plot the final fit\n",
    "plot_fit(mlp, x_train, y_train)"
   ]
  },
  {
   "cell_type": "code",
   "execution_count": 16,
   "metadata": {
    "deletable": false,
    "editable": false,
    "nbgrader": {
     "cell_type": "code",
     "checksum": "f5f26864b6cb70d611749f0fc0d7f5c4",
     "grade": false,
     "grade_id": "accuracy_early_stop",
     "locked": true,
     "schema_version": 3,
     "solution": false,
     "task": false
    }
   },
   "outputs": [
    {
     "name": "stdout",
     "output_type": "stream",
     "text": [
      "Test loss with early stopping: 0.10812\n"
     ]
    }
   ],
   "source": [
    "test_loss_early_stopping = compute_loss(mlp, x_test, y_test)\n",
    "print(\"Test loss with early stopping: %.5f\" % test_loss_early_stopping)"
   ]
  },
  {
   "cell_type": "markdown",
   "metadata": {
    "deletable": false,
    "editable": false,
    "nbgrader": {
     "cell_type": "markdown",
     "checksum": "d70dd3d3f8e8c2cfb4b55f8c255c03e2",
     "grade": false,
     "grade_id": "cell-898f073dfa615c29",
     "locked": true,
     "schema_version": 3,
     "solution": false
    }
   },
   "source": [
    "## Weight-decay regularization\n",
    "\n",
    "Let us train the same network with L2 penalties on the weights. In PyTorch, one can add L2 penalty terms for all the parameters by providing `weight_decay` argument for most types of optimizers."
   ]
  },
  {
   "cell_type": "code",
   "execution_count": 17,
   "metadata": {
    "deletable": false,
    "nbgrader": {
     "cell_type": "code",
     "checksum": "bd360554b4354b1cfe47ae6416f87833",
     "grade": false,
     "grade_id": "cell-255cbcade10c4b39",
     "locked": false,
     "schema_version": 3,
     "solution": true
    }
   },
   "outputs": [
    {
     "ename": "NotImplementedError",
     "evalue": "",
     "output_type": "error",
     "traceback": [
      "\u001b[0;31m---------------------------------------------------------------------------\u001b[0m",
      "\u001b[0;31mNotImplementedError\u001b[0m                       Traceback (most recent call last)",
      "\u001b[0;32m<ipython-input-17-15b94d1fa268>\u001b[0m in \u001b[0;36m<module>\u001b[0;34m\u001b[0m\n\u001b[1;32m      1\u001b[0m \u001b[0;31m# YOUR CODE HERE\u001b[0m\u001b[0;34m\u001b[0m\u001b[0;34m\u001b[0m\u001b[0;34m\u001b[0m\u001b[0m\n\u001b[0;32m----> 2\u001b[0;31m \u001b[0;32mraise\u001b[0m \u001b[0mNotImplementedError\u001b[0m\u001b[0;34m(\u001b[0m\u001b[0;34m)\u001b[0m\u001b[0;34m\u001b[0m\u001b[0;34m\u001b[0m\u001b[0m\n\u001b[0m",
      "\u001b[0;31mNotImplementedError\u001b[0m: "
     ]
    }
   ],
   "source": [
    "# YOUR CODE HERE\n",
    "raise NotImplementedError()"
   ]
  },
  {
   "cell_type": "code",
   "execution_count": 18,
   "metadata": {
    "deletable": false,
    "editable": false,
    "nbgrader": {
     "cell_type": "code",
     "checksum": "8e89ff4aaa6a9e35b8e6b54856ad5161",
     "grade": false,
     "grade_id": "cell-8cd18e4a1f1c9be7",
     "locked": true,
     "schema_version": 3,
     "solution": false
    }
   },
   "outputs": [
    {
     "data": {
      "text/plain": [
       "[<matplotlib.lines.Line2D at 0x7fb4e8607f28>]"
      ]
     },
     "execution_count": 18,
     "metadata": {},
     "output_type": "execute_result"
    },
    {
     "data": {
      "image/png": "[encoded data removed]",
      "text/plain": [
       "<Figure size 432x288 with 1 Axes>"
      ]
     },
     "metadata": {
      "needs_background": "light"
     },
     "output_type": "display_data"
    }
   ],
   "source": [
    "# Plot the learning curves (the evolution of the following quantities during training)\n",
    "fig, ax = plt.subplots(1)\n",
    "ax.loglog(train_errors)\n",
    "ax.loglog(test_errors)"
   ]
  },
  {
   "cell_type": "code",
   "execution_count": 19,
   "metadata": {
    "deletable": false,
    "editable": false,
    "nbgrader": {
     "cell_type": "code",
     "checksum": "3bb8f2b45e601a474fc8fb118c8f7c7b",
     "grade": false,
     "grade_id": "cell-5a77537fb12d0e5c",
     "locked": true,
     "schema_version": 3,
     "solution": false
    }
   },
   "outputs": [
    {
     "data": {
      "image/png": "[encoded data removed]",
      "text/plain": [
       "<Figure size 432x288 with 1 Axes>"
      ]
     },
     "metadata": {
      "needs_background": "light"
     },
     "output_type": "display_data"
    }
   ],
   "source": [
    "# Plot the final fit\n",
    "plot_fit(mlp, x_train, y_train)"
   ]
  },
  {
   "cell_type": "code",
   "execution_count": 20,
   "metadata": {
    "deletable": false,
    "editable": false,
    "nbgrader": {
     "cell_type": "code",
     "checksum": "72037f8c49da2bc1dc570de69f5a6d26",
     "grade": true,
     "grade_id": "accuracy_weight_decay",
     "locked": true,
     "points": 0,
     "schema_version": 3,
     "solution": false
    }
   },
   "outputs": [
    {
     "name": "stdout",
     "output_type": "stream",
     "text": [
      "Test loss with weight decay: 0.10812\n"
     ]
    }
   ],
   "source": [
    "test_loss_weight_decay = compute_loss(mlp, x_test, y_test)\n",
    "print(\"Test loss with weight decay: %.5f\" % test_loss_weight_decay)"
   ]
  },
  {
   "cell_type": "markdown",
   "metadata": {
    "deletable": false,
    "editable": false,
    "nbgrader": {
     "cell_type": "markdown",
     "checksum": "34a6e0abf991b63f9628c3317af8959a",
     "grade": false,
     "grade_id": "cell-838adccf05b5b869",
     "locked": true,
     "schema_version": 3,
     "solution": false
    }
   },
   "source": [
    "## Injecting noise to inputs\n",
    "\n",
    "One way to improve generalization is to add noise to the inputs. So, we update the parameters of $f$ using the gradient of the following function\n",
    "$$c= \\sum_{i=1}^n || f(x_i + n_i) - y_i ||^2$$\n",
    "where $n_i$ is a noise instance. In the code, we corrupt input with Gaussian noise with standard deviation 0.07."
   ]
  },
  {
   "cell_type": "code",
   "execution_count": 21,
   "metadata": {
    "deletable": false,
    "editable": false,
    "nbgrader": {
     "cell_type": "code",
     "checksum": "0e7a9a63e1b10c7fd751f3ffc0483f04",
     "grade": false,
     "grade_id": "cell-8fc08479cee992e4",
     "locked": true,
     "schema_version": 3,
     "solution": false,
     "task": false
    }
   },
   "outputs": [
    {
     "name": "stdout",
     "output_type": "stream",
     "text": [
      "Epoch 100: Train error: 0.17, Test error: 0.19\n",
      "Epoch 200: Train error: 0.10, Test error: 0.12\n",
      "Epoch 300: Train error: 0.10, Test error: 0.12\n",
      "Epoch 400: Train error: 0.09, Test error: 0.13\n",
      "Epoch 500: Train error: 0.10, Test error: 0.14\n",
      "Epoch 600: Train error: 0.10, Test error: 0.14\n",
      "Epoch 700: Train error: 0.09, Test error: 0.12\n",
      "Epoch 800: Train error: 0.10, Test error: 0.13\n",
      "Epoch 900: Train error: 0.10, Test error: 0.14\n",
      "Epoch 1000: Train error: 0.09, Test error: 0.12\n",
      "Epoch 1100: Train error: 0.09, Test error: 0.12\n",
      "Epoch 1200: Train error: 0.10, Test error: 0.14\n",
      "Epoch 1300: Train error: 0.09, Test error: 0.12\n",
      "Epoch 1400: Train error: 0.09, Test error: 0.12\n",
      "Epoch 1500: Train error: 0.09, Test error: 0.12\n",
      "Epoch 1600: Train error: 0.10, Test error: 0.12\n",
      "Epoch 1700: Train error: 0.09, Test error: 0.13\n",
      "Epoch 1800: Train error: 0.10, Test error: 0.14\n",
      "Epoch 1900: Train error: 0.09, Test error: 0.12\n",
      "Epoch 2000: Train error: 0.09, Test error: 0.12\n",
      "Epoch 2100: Train error: 0.09, Test error: 0.12\n",
      "Epoch 2200: Train error: 0.09, Test error: 0.12\n",
      "Epoch 2300: Train error: 0.09, Test error: 0.12\n",
      "Epoch 2400: Train error: 0.09, Test error: 0.12\n",
      "Epoch 2500: Train error: 0.09, Test error: 0.11\n",
      "Epoch 2600: Train error: 0.09, Test error: 0.12\n",
      "Epoch 2700: Train error: 0.09, Test error: 0.12\n",
      "Epoch 2800: Train error: 0.09, Test error: 0.12\n",
      "Epoch 2900: Train error: 0.09, Test error: 0.12\n",
      "Epoch 3000: Train error: 0.09, Test error: 0.12\n",
      "Epoch 3100: Train error: 0.09, Test error: 0.12\n",
      "Epoch 3200: Train error: 0.09, Test error: 0.12\n",
      "Epoch 3300: Train error: 0.09, Test error: 0.12\n",
      "Epoch 3400: Train error: 0.09, Test error: 0.12\n",
      "Epoch 3500: Train error: 0.09, Test error: 0.13\n",
      "Epoch 3600: Train error: 0.09, Test error: 0.12\n",
      "Epoch 3700: Train error: 0.09, Test error: 0.12\n",
      "Epoch 3800: Train error: 0.09, Test error: 0.12\n",
      "Epoch 3900: Train error: 0.09, Test error: 0.12\n",
      "Epoch 4000: Train error: 0.09, Test error: 0.12\n"
     ]
    }
   ],
   "source": [
    "# Train MLP with injecting noise to inputs\n",
    "mlp = MLP()\n",
    "\n",
    "optimizer = torch.optim.Adam(mlp.parameters(), lr=0.001)\n",
    "n_epochs = 4000\n",
    "train_errors = []\n",
    "test_errors = []\n",
    "\n",
    "for epoch in range(n_epochs):\n",
    "    optimizer.zero_grad()\n",
    "    outputs = mlp.forward(x_train + 0.07 * torch.randn_like(x_train))\n",
    "    loss = F.mse_loss(outputs, y_train)\n",
    "    loss.backward()\n",
    "    optimizer.step()\n",
    "\n",
    "    if (epoch+1) % 100 == 0:\n",
    "        train_errors.append(compute_loss(mlp, x_train, y_train))\n",
    "        test_errors.append(compute_loss(mlp, x_test, y_test))\n",
    "        print_progress(epoch, train_errors[-1], test_errors[-1])"
   ]
  },
  {
   "cell_type": "code",
   "execution_count": 22,
   "metadata": {
    "deletable": false,
    "editable": false,
    "nbgrader": {
     "cell_type": "code",
     "checksum": "cce115b9572a7647b8864dd51456885e",
     "grade": false,
     "grade_id": "cell-cbdd3af100896b8b",
     "locked": true,
     "schema_version": 3,
     "solution": false
    }
   },
   "outputs": [
    {
     "data": {
      "text/plain": [
       "[<matplotlib.lines.Line2D at 0x7fb4e8462cc0>]"
      ]
     },
     "execution_count": 22,
     "metadata": {},
     "output_type": "execute_result"
    },
    {
     "data": {
      "image/png": "[encoded data removed]",
      "text/plain": [
       "<Figure size 432x288 with 1 Axes>"
      ]
     },
     "metadata": {
      "needs_background": "light"
     },
     "output_type": "display_data"
    }
   ],
   "source": [
    "# Plot the learning curves: the evolution of training and validation errors during training\n",
    "fig, ax = plt.subplots(1)\n",
    "ax.loglog(train_errors)\n",
    "ax.loglog(test_errors)"
   ]
  },
  {
   "cell_type": "code",
   "execution_count": 23,
   "metadata": {
    "deletable": false,
    "editable": false,
    "nbgrader": {
     "cell_type": "code",
     "checksum": "5c6bb460c104299c6ebec89b7beecfd6",
     "grade": false,
     "grade_id": "cell-c8eb739eb3ecb6ec",
     "locked": true,
     "schema_version": 3,
     "solution": false
    }
   },
   "outputs": [
    {
     "data": {
      "image/png": "[encoded data removed]",
      "text/plain": [
       "<Figure size 432x288 with 1 Axes>"
      ]
     },
     "metadata": {
      "needs_background": "light"
     },
     "output_type": "display_data"
    }
   ],
   "source": [
    "# Plot the final fit\n",
    "plot_fit(mlp, x_train, y_train)"
   ]
  },
  {
   "cell_type": "code",
   "execution_count": 24,
   "metadata": {
    "deletable": false,
    "editable": false,
    "nbgrader": {
     "cell_type": "code",
     "checksum": "a02bcdf645dee0fe7e246258e1d0969e",
     "grade": true,
     "grade_id": "accuracy_",
     "locked": true,
     "points": 0,
     "schema_version": 3,
     "solution": false
    }
   },
   "outputs": [
    {
     "name": "stdout",
     "output_type": "stream",
     "text": [
      "Test loss with noise injection: 0.12080\n"
     ]
    }
   ],
   "source": [
    "# Let's look at the test loss\n",
    "test_loss_inj_noise = compute_loss(mlp, x_test, y_test)\n",
    "print(\"Test loss with noise injection: %.5f\" % test_loss_inj_noise)"
   ]
  },
  {
   "cell_type": "markdown",
   "metadata": {
    "deletable": false,
    "editable": false,
    "nbgrader": {
     "cell_type": "markdown",
     "checksum": "e3f73fc6ac42f0352b08e6c23f44c88d",
     "grade": false,
     "grade_id": "cell-b194dea5c4db3b4f",
     "locked": true,
     "schema_version": 3,
     "solution": false
    }
   },
   "source": [
    "## Dropout\n",
    "\n",
    "Another way to improve generalization is to use dropout. In the cell below, we define an MLP with exactly the same architecture as previously but with `nn.Dropout` layers (with dropout probability 0.2) after each `tanh`\n",
    "nonlinearity. "
   ]
  },
  {
   "cell_type": "code",
   "execution_count": 25,
   "metadata": {
    "deletable": false,
    "nbgrader": {
     "cell_type": "code",
     "checksum": "fa57480de6c37ccb54d0a242557ec6b8",
     "grade": false,
     "grade_id": "cell-65cfc4660990f02f",
     "locked": false,
     "schema_version": 3,
     "solution": true
    }
   },
   "outputs": [
    {
     "ename": "NotImplementedError",
     "evalue": "",
     "output_type": "error",
     "traceback": [
      "\u001b[0;31m---------------------------------------------------------------------------\u001b[0m",
      "\u001b[0;31mNotImplementedError\u001b[0m                       Traceback (most recent call last)",
      "\u001b[0;32m<ipython-input-25-15b94d1fa268>\u001b[0m in \u001b[0;36m<module>\u001b[0;34m\u001b[0m\n\u001b[1;32m      1\u001b[0m \u001b[0;31m# YOUR CODE HERE\u001b[0m\u001b[0;34m\u001b[0m\u001b[0;34m\u001b[0m\u001b[0;34m\u001b[0m\u001b[0m\n\u001b[0;32m----> 2\u001b[0;31m \u001b[0;32mraise\u001b[0m \u001b[0mNotImplementedError\u001b[0m\u001b[0;34m(\u001b[0m\u001b[0;34m)\u001b[0m\u001b[0;34m\u001b[0m\u001b[0;34m\u001b[0m\u001b[0m\n\u001b[0m",
      "\u001b[0;31mNotImplementedError\u001b[0m: "
     ]
    }
   ],
   "source": [
    "# YOUR CODE HERE\n",
    "raise NotImplementedError()"
   ]
  },
  {
   "cell_type": "code",
   "execution_count": 26,
   "metadata": {
    "deletable": false,
    "editable": false,
    "nbgrader": {
     "cell_type": "code",
     "checksum": "fa1c1e1de54663cd6c1506407a5acbd9",
     "grade": false,
     "grade_id": "cell-abe08aa52fcfcebe",
     "locked": true,
     "schema_version": 3,
     "solution": false
    }
   },
   "outputs": [
    {
     "ename": "NameError",
     "evalue": "name 'MLPDropout' is not defined",
     "output_type": "error",
     "traceback": [
      "\u001b[0;31m---------------------------------------------------------------------------\u001b[0m",
      "\u001b[0;31mNameError\u001b[0m                                 Traceback (most recent call last)",
      "\u001b[0;32m<ipython-input-26-418ba43baba0>\u001b[0m in \u001b[0;36m<module>\u001b[0;34m\u001b[0m\n\u001b[0;32m----> 1\u001b[0;31m \u001b[0mmlp\u001b[0m \u001b[0;34m=\u001b[0m \u001b[0mMLPDropout\u001b[0m\u001b[0;34m(\u001b[0m\u001b[0;34m)\u001b[0m\u001b[0;34m\u001b[0m\u001b[0;34m\u001b[0m\u001b[0m\n\u001b[0m\u001b[1;32m      2\u001b[0m \u001b[0;34m\u001b[0m\u001b[0m\n\u001b[1;32m      3\u001b[0m \u001b[0moptimizer\u001b[0m \u001b[0;34m=\u001b[0m \u001b[0mtorch\u001b[0m\u001b[0;34m.\u001b[0m\u001b[0moptim\u001b[0m\u001b[0;34m.\u001b[0m\u001b[0mAdam\u001b[0m\u001b[0;34m(\u001b[0m\u001b[0mmlp\u001b[0m\u001b[0;34m.\u001b[0m\u001b[0mparameters\u001b[0m\u001b[0;34m(\u001b[0m\u001b[0;34m)\u001b[0m\u001b[0;34m,\u001b[0m \u001b[0mlr\u001b[0m\u001b[0;34m=\u001b[0m\u001b[0;36m0.01\u001b[0m\u001b[0;34m)\u001b[0m\u001b[0;34m\u001b[0m\u001b[0;34m\u001b[0m\u001b[0m\n\u001b[1;32m      4\u001b[0m \u001b[0;31m#scheduler = StepLR(optimizer, step_size=100, gamma=0.95)\u001b[0m\u001b[0;34m\u001b[0m\u001b[0;34m\u001b[0m\u001b[0;34m\u001b[0m\u001b[0m\n\u001b[1;32m      5\u001b[0m \u001b[0mn_epochs\u001b[0m \u001b[0;34m=\u001b[0m \u001b[0;36m4000\u001b[0m\u001b[0;34m\u001b[0m\u001b[0;34m\u001b[0m\u001b[0m\n",
      "\u001b[0;31mNameError\u001b[0m: name 'MLPDropout' is not defined"
     ]
    }
   ],
   "source": [
    "mlp = MLPDropout()\n",
    "\n",
    "optimizer = torch.optim.Adam(mlp.parameters(), lr=0.01)\n",
    "#scheduler = StepLR(optimizer, step_size=100, gamma=0.95)\n",
    "n_epochs = 4000\n",
    "train_errors = []\n",
    "test_errors = []\n",
    "\n",
    "for epoch in range(n_epochs):\n",
    "    #scheduler.step()\n",
    "    mlp.train()  # Dropout layers work differently during training and test. This sets the training mode.\n",
    "    optimizer.zero_grad()\n",
    "    outputs = mlp.forward(x_train)\n",
    "    loss = F.mse_loss(outputs, y_train)\n",
    "    loss.backward()\n",
    "    optimizer.step()\n",
    "\n",
    "    if (epoch+1) % 100 == 0:\n",
    "        mlp.eval()\n",
    "        train_errors.append(compute_loss(mlp, x_train, y_train))\n",
    "        test_errors.append(compute_loss(mlp, x_test, y_test))\n",
    "        print_progress(epoch, train_errors[-1], test_errors[-1])"
   ]
  },
  {
   "cell_type": "code",
   "execution_count": 27,
   "metadata": {
    "deletable": false,
    "editable": false,
    "nbgrader": {
     "cell_type": "code",
     "checksum": "c8ddc227feff1d56bd88cf1c0d0f7d0c",
     "grade": false,
     "grade_id": "cell-8433adb7942ac189",
     "locked": true,
     "schema_version": 3,
     "solution": false
    }
   },
   "outputs": [
    {
     "data": {
      "text/plain": [
       "[<matplotlib.lines.Line2D at 0x7fb4f0ad3e80>]"
      ]
     },
     "execution_count": 27,
     "metadata": {},
     "output_type": "execute_result"
    },
    {
     "data": {
      "image/png": "[encoded data removed]",
      "text/plain": [
       "<Figure size 432x288 with 1 Axes>"
      ]
     },
     "metadata": {
      "needs_background": "light"
     },
     "output_type": "display_data"
    }
   ],
   "source": [
    "# Plot the learning curves (the evolution of the following quantities during training)\n",
    "fig, ax = plt.subplots(1)\n",
    "ax.loglog(train_errors)\n",
    "ax.loglog(test_errors)"
   ]
  },
  {
   "cell_type": "code",
   "execution_count": 28,
   "metadata": {
    "deletable": false,
    "editable": false,
    "nbgrader": {
     "cell_type": "code",
     "checksum": "85c5e115c2e848c0c854db5b45d1454b",
     "grade": false,
     "grade_id": "cell-6c24d16cec138a9c",
     "locked": true,
     "schema_version": 3,
     "solution": false
    }
   },
   "outputs": [
    {
     "data": {
      "image/png": "[encoded data removed]",
      "text/plain": [
       "<Figure size 432x288 with 1 Axes>"
      ]
     },
     "metadata": {
      "needs_background": "light"
     },
     "output_type": "display_data"
    }
   ],
   "source": [
    "# Plot the final fit\n",
    "mlp.eval()\n",
    "plot_fit(mlp, x_train, y_train)"
   ]
  },
  {
   "cell_type": "code",
   "execution_count": 29,
   "metadata": {
    "deletable": false,
    "editable": false,
    "nbgrader": {
     "cell_type": "code",
     "checksum": "21e9f1b635f2563eceefcf72a5a04972",
     "grade": true,
     "grade_id": "accuracy_dropout",
     "locked": true,
     "points": 0,
     "schema_version": 3,
     "solution": false
    }
   },
   "outputs": [
    {
     "name": "stdout",
     "output_type": "stream",
     "text": [
      "Test loss with dropout: 0.12080\n"
     ]
    }
   ],
   "source": [
    "# Let's look at the test loss\n",
    "test_loss_dropout = compute_loss(mlp, x_test, y_test)\n",
    "print(\"Test loss with dropout: %.5f\" % test_loss_dropout)"
   ]
  },
  {
   "cell_type": "markdown",
   "metadata": {
    "deletable": false,
    "editable": false,
    "nbgrader": {
     "cell_type": "markdown",
     "checksum": "dd87d02f28cf3e69ce8cc91e556e575d",
     "grade": false,
     "grade_id": "cell-55bc3b6b8e363d8e",
     "locked": true,
     "schema_version": 3,
     "solution": false,
     "task": false
    }
   },
   "source": [
    "## Reducing model capacity\n",
    "\n",
    "Another simple way to reduce overfitting is to reduce the capacity of the model. Let us use for the same regression task a much smaller network: an MLP with one hidden layer with five units, tanh nonlinearity in the hidden layer and a linear output layer."
   ]
  },
  {
   "cell_type": "code",
   "execution_count": 30,
   "metadata": {
    "deletable": false,
    "nbgrader": {
     "cell_type": "code",
     "checksum": "6d7d73a096df3dd4f6abd4e57cc477ad",
     "grade": false,
     "grade_id": "cell-c3212365fca02faa",
     "locked": false,
     "schema_version": 3,
     "solution": true,
     "task": false
    }
   },
   "outputs": [
    {
     "ename": "NotImplementedError",
     "evalue": "",
     "output_type": "error",
     "traceback": [
      "\u001b[0;31m---------------------------------------------------------------------------\u001b[0m",
      "\u001b[0;31mNotImplementedError\u001b[0m                       Traceback (most recent call last)",
      "\u001b[0;32m<ipython-input-30-15b94d1fa268>\u001b[0m in \u001b[0;36m<module>\u001b[0;34m\u001b[0m\n\u001b[1;32m      1\u001b[0m \u001b[0;31m# YOUR CODE HERE\u001b[0m\u001b[0;34m\u001b[0m\u001b[0;34m\u001b[0m\u001b[0;34m\u001b[0m\u001b[0m\n\u001b[0;32m----> 2\u001b[0;31m \u001b[0;32mraise\u001b[0m \u001b[0mNotImplementedError\u001b[0m\u001b[0;34m(\u001b[0m\u001b[0;34m)\u001b[0m\u001b[0;34m\u001b[0m\u001b[0;34m\u001b[0m\u001b[0m\n\u001b[0m",
      "\u001b[0;31mNotImplementedError\u001b[0m: "
     ]
    }
   ],
   "source": [
    "# YOUR CODE HERE\n",
    "raise NotImplementedError()"
   ]
  },
  {
   "cell_type": "code",
   "execution_count": 31,
   "metadata": {
    "deletable": false,
    "editable": false,
    "nbgrader": {
     "cell_type": "code",
     "checksum": "ca8880c93da7908ec8aca1b9f95e87b0",
     "grade": false,
     "grade_id": "cell-1c6977bb9e6169e3",
     "locked": true,
     "schema_version": 3,
     "solution": false,
     "task": false
    }
   },
   "outputs": [
    {
     "ename": "NameError",
     "evalue": "name 'MLPSmall' is not defined",
     "output_type": "error",
     "traceback": [
      "\u001b[0;31m---------------------------------------------------------------------------\u001b[0m",
      "\u001b[0;31mNameError\u001b[0m                                 Traceback (most recent call last)",
      "\u001b[0;32m<ipython-input-31-0ee48486a139>\u001b[0m in \u001b[0;36m<module>\u001b[0;34m\u001b[0m\n\u001b[0;32m----> 1\u001b[0;31m \u001b[0mmlp\u001b[0m \u001b[0;34m=\u001b[0m \u001b[0mMLPSmall\u001b[0m\u001b[0;34m(\u001b[0m\u001b[0;34m)\u001b[0m\u001b[0;34m\u001b[0m\u001b[0;34m\u001b[0m\u001b[0m\n\u001b[0m\u001b[1;32m      2\u001b[0m \u001b[0;34m\u001b[0m\u001b[0m\n\u001b[1;32m      3\u001b[0m \u001b[0moptimizer\u001b[0m \u001b[0;34m=\u001b[0m \u001b[0mtorch\u001b[0m\u001b[0;34m.\u001b[0m\u001b[0moptim\u001b[0m\u001b[0;34m.\u001b[0m\u001b[0mAdam\u001b[0m\u001b[0;34m(\u001b[0m\u001b[0mmlp\u001b[0m\u001b[0;34m.\u001b[0m\u001b[0mparameters\u001b[0m\u001b[0;34m(\u001b[0m\u001b[0;34m)\u001b[0m\u001b[0;34m,\u001b[0m \u001b[0mlr\u001b[0m\u001b[0;34m=\u001b[0m\u001b[0;36m0.001\u001b[0m\u001b[0;34m)\u001b[0m\u001b[0;34m\u001b[0m\u001b[0;34m\u001b[0m\u001b[0m\n\u001b[1;32m      4\u001b[0m \u001b[0mn_epochs\u001b[0m \u001b[0;34m=\u001b[0m \u001b[0;36m10000\u001b[0m\u001b[0;34m\u001b[0m\u001b[0;34m\u001b[0m\u001b[0m\n\u001b[1;32m      5\u001b[0m \u001b[0mtrain_errors\u001b[0m \u001b[0;34m=\u001b[0m \u001b[0;34m[\u001b[0m\u001b[0;34m]\u001b[0m\u001b[0;34m\u001b[0m\u001b[0;34m\u001b[0m\u001b[0m\n",
      "\u001b[0;31mNameError\u001b[0m: name 'MLPSmall' is not defined"
     ]
    }
   ],
   "source": [
    "mlp = MLPSmall()\n",
    "\n",
    "optimizer = torch.optim.Adam(mlp.parameters(), lr=0.001)\n",
    "n_epochs = 10000\n",
    "train_errors = []\n",
    "test_errors = []\n",
    "\n",
    "for epoch in range(n_epochs):\n",
    "    optimizer.zero_grad()\n",
    "    outputs = mlp.forward(x_train)\n",
    "    loss = F.mse_loss(outputs, y_train)\n",
    "    loss.backward()\n",
    "    optimizer.step()\n",
    "\n",
    "    if (epoch+1) % 500 == 0:\n",
    "        train_errors.append(compute_loss(mlp, x_train, y_train))\n",
    "        test_errors.append(compute_loss(mlp, x_test, y_test))\n",
    "        print_progress(epoch, train_errors[-1], test_errors[-1])"
   ]
  },
  {
   "cell_type": "code",
   "execution_count": 32,
   "metadata": {
    "deletable": false,
    "editable": false,
    "nbgrader": {
     "cell_type": "code",
     "checksum": "b12ce3124717edb160baf709a38c654e",
     "grade": false,
     "grade_id": "cell-f465cfe6bb4297e0",
     "locked": true,
     "schema_version": 3,
     "solution": false,
     "task": false
    }
   },
   "outputs": [
    {
     "data": {
      "text/plain": [
       "[<matplotlib.lines.Line2D at 0x7fb4e82b3f60>]"
      ]
     },
     "execution_count": 32,
     "metadata": {},
     "output_type": "execute_result"
    },
    {
     "data": {
      "image/png": "[encoded data removed]",
      "text/plain": [
       "<Figure size 432x288 with 1 Axes>"
      ]
     },
     "metadata": {
      "needs_background": "light"
     },
     "output_type": "display_data"
    }
   ],
   "source": [
    "# Plot the learning curves (the evolution of the following quantities during training)\n",
    "fig, ax = plt.subplots(1)\n",
    "ax.loglog(train_errors)\n",
    "ax.loglog(test_errors)"
   ]
  },
  {
   "cell_type": "code",
   "execution_count": 33,
   "metadata": {
    "deletable": false,
    "editable": false,
    "nbgrader": {
     "cell_type": "code",
     "checksum": "27ad95465d708b318b1d106f3dd2b3e8",
     "grade": false,
     "grade_id": "cell-443a252b39226e7b",
     "locked": true,
     "schema_version": 3,
     "solution": false,
     "task": false
    }
   },
   "outputs": [
    {
     "data": {
      "image/png": "[encoded data removed]",
      "text/plain": [
       "<Figure size 432x288 with 1 Axes>"
      ]
     },
     "metadata": {
      "needs_background": "light"
     },
     "output_type": "display_data"
    }
   ],
   "source": [
    "# Plot the final fit\n",
    "mlp.eval()\n",
    "plot_fit(mlp, x_train, y_train)"
   ]
  },
  {
   "cell_type": "code",
   "execution_count": 34,
   "metadata": {
    "deletable": false,
    "editable": false,
    "nbgrader": {
     "cell_type": "code",
     "checksum": "393679e56db71bf371735d23dfd060df",
     "grade": true,
     "grade_id": "accuracy_small",
     "locked": true,
     "points": 1,
     "schema_version": 3,
     "solution": false,
     "task": false
    }
   },
   "outputs": [
    {
     "name": "stdout",
     "output_type": "stream",
     "text": [
      "Test loss by reducing model capacity: 0.12080\n"
     ]
    }
   ],
   "source": [
    "# Let's look at the test loss\n",
    "test_loss_small = compute_loss(mlp, x_test, y_test)\n",
    "print(\"Test loss by reducing model capacity: %.5f\" % test_loss_small)"
   ]
  },
  {
   "cell_type": "code",
   "execution_count": null,
   "metadata": {
    "deletable": false,
    "editable": false,
    "nbgrader": {
     "cell_type": "code",
     "checksum": "c7a823400a6ae118ec9192c571132d78",
     "grade": false,
     "grade_id": "cell-26f532d3fb21f610",
     "locked": true,
     "schema_version": 3,
     "solution": false,
     "task": false
    }
   },
   "outputs": [],
   "source": [
    "# We can summarize the results obtained with different regularization methods:\n",
    "print('No regularization: %.5f' % test_loss_no_regularization)\n",
    "print('Early stopping:    %.5f' % test_loss_early_stopping)\n",
    "print('Weight decay:      %.5f' % test_loss_weight_decay)\n",
    "print('Noise injection:   %.5f' % test_loss_inj_noise)\n",
    "print('Dropout:           %.5f' % test_loss_dropout)\n",
    "print('Small network:     %.5f' % test_loss_small)"
   ]
  },
  {
   "cell_type": "markdown",
   "metadata": {
    "deletable": false,
    "editable": false,
    "nbgrader": {
     "cell_type": "markdown",
     "checksum": "01e31500280375eed0bced9cefd41b0b",
     "grade": false,
     "grade_id": "cell-a9fc6f9740d33f87",
     "locked": true,
     "schema_version": 3,
     "solution": false,
     "task": false
    }
   },
   "source": [
    "The values of the hyperparameters (parameters of the training procedure) may have a major impact on the results. The best hyperparameters are usually found by measuring the performance on the validation set."
   ]
  }
 ],
 "metadata": {
  "kernelspec": {
   "display_name": "Python 3",
   "language": "python",
   "name": "python3"
  },
  "language_info": {
   "codemirror_mode": {
    "name": "ipython",
    "version": 3
   },
   "file_extension": ".py",
   "mimetype": "text/x-python",
   "name": "python",
   "nbconvert_exporter": "python",
   "pygments_lexer": "ipython3",
   "version": "3.7.3"
  },
  "varInspector": {
   "cols": {
    "lenName": 16,
    "lenType": 16,
    "lenVar": 40
   },
   "kernels_config": {
    "python": {
     "delete_cmd_postfix": "",
     "delete_cmd_prefix": "del ",
     "library": "var_list.py",
     "varRefreshCmd": "print(var_dic_list())"
    },
    "r": {
     "delete_cmd_postfix": ") ",
     "delete_cmd_prefix": "rm(",
     "library": "var_list.r",
     "varRefreshCmd": "cat(var_dic_list()) "
    }
   },
   "types_to_exclude": [
    "module",
    "function",
    "builtin_function_or_method",
    "instance",
    "_Feature"
   ],
   "window_display": false
  }
 },
 "nbformat": 4,
 "nbformat_minor": 4
}
